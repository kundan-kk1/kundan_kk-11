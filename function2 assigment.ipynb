{
 "cells": [
  {
   "cell_type": "code",
   "execution_count": null,
   "id": "e41b7736-79b8-44af-abe4-2a4f63f0ca91",
   "metadata": {},
   "outputs": [],
   "source": [
    " Q.1 ans\n",
    "        def sort_tuples(tuples):\n",
    "    return sorted(tuples, key=lambda tup: tup[0])\n",
    "tuples = [(1, 'a'), (2, 'b'), (3, 'c')]\n",
    "sorted_tuples = sort_tuples(tuples)\n",
    "print(sorted_tuples)"
   ]
  },
  {
   "cell_type": "code",
   "execution_count": null,
   "id": "886db156-ef21-4b99-afaa-41bbeb9e5631",
   "metadata": {},
   "outputs": [],
   "source": [
    "Q.2 ans\n",
    "def find_squares(nums):\n",
    "    square = lambda x: x * x\n",
    "    return list(map(square, nums)\n",
    "nums = [1, 2, 3, 4, 5]\n",
    "squares = find_squares(nums)\n",
    "print(squares)\n"
   ]
  },
  {
   "cell_type": "code",
   "execution_count": null,
   "id": "e33952af-82a6-4e4d-87db-63ab327c7bf2",
   "metadata": {},
   "outputs": [],
   "source": [
    "Q.3 ans\n",
    "def convert_list_to_tuple(nums):\n",
    "    str_func = lambda x: str(x)\n",
    "    str_nums = list(map(str_func, nums))\n",
    "    return tuple(str_nums)\n",
    "nums = [1, 2, 3, 4, 5,6,7,8,9,10]\n",
    "str_nums = convert_list_to_tuple(nums)\n",
    "print(str_nums)"
   ]
  },
  {
   "cell_type": "code",
   "execution_count": null,
   "id": "6af9b590-9674-4442-8ec7-e878233090bb",
   "metadata": {},
   "outputs": [],
   "source": [
    "Q.4 ans\n",
    "\n",
    "from functools import reduce\n",
    "def product(nums):\n",
    "    return reduce(lambda x, y: x * y, nums)\n",
    "nums = list(range(1, 26))\n",
    "print(product(nums))"
   ]
  },
  {
   "cell_type": "code",
   "execution_count": null,
   "id": "1f47b593-2ee9-4f68-a4d6-68e52274e9fc",
   "metadata": {},
   "outputs": [],
   "source": [
    "Q.5 ans\n",
    "def divisible_by_2_and_3(num):\n",
    "    return num % 2 == 0 and num % 3 == 0\n",
    "nums = [1, 2, 3, 4, 5, 6, 7, 8, 9, 10]\n",
    "filtered_nums = list(filter(divisible_by_2_and_3, nums))\n",
    "print(filtered_nums)"
   ]
  },
  {
   "cell_type": "code",
   "execution_count": null,
   "id": "372e0b21-e8bd-464b-9561-595812460710",
   "metadata": {},
   "outputs": [],
   "source": [
    "Q.6\n",
    "def is_palindrome(str):\n",
    "    return str == str[::-1]\n",
    "strings = [\"racecar\", \"radar\", \"hello\", \"apple\"]\n",
    "palindromes = list(filter(is_palindrome, strings))\n",
    "# Print the palindromes\n",
    "print(palindromes)\n"
   ]
  },
  {
   "cell_type": "code",
   "execution_count": null,
   "id": "07087019-32d6-4596-aede-dbf34d3e21e5",
   "metadata": {},
   "outputs": [],
   "source": [
    "\n"
   ]
  }
 ],
 "metadata": {
  "kernelspec": {
   "display_name": "Python 3 (ipykernel)",
   "language": "python",
   "name": "python3"
  },
  "language_info": {
   "codemirror_mode": {
    "name": "ipython",
    "version": 3
   },
   "file_extension": ".py",
   "mimetype": "text/x-python",
   "name": "python",
   "nbconvert_exporter": "python",
   "pygments_lexer": "ipython3",
   "version": "3.10.8"
  }
 },
 "nbformat": 4,
 "nbformat_minor": 5
}
