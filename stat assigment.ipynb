{
 "cells": [
  {
   "cell_type": "markdown",
   "id": "e7d3a270-89c0-4f1d-bdf7-73af62dd4840",
   "metadata": {},
   "source": [
    "Q1. What is Statistics?\n"
   ]
  },
  {
   "cell_type": "code",
   "execution_count": null,
   "id": "054b2d95-0e52-45cf-af4a-168ebd03aeee",
   "metadata": {},
   "outputs": [],
   "source": [
    "Ans:- Staticstic is the science of collecting analysing and orgenizing data"
   ]
  },
  {
   "cell_type": "markdown",
   "id": "c69a37b2-f070-4ce8-b5b2-6b366a4a4bd3",
   "metadata": {},
   "source": [
    "Q2Q2. Define the different types of statistics and give an example of when each type might be used."
   ]
  },
  {
   "cell_type": "code",
   "execution_count": null,
   "id": "5faf38d9-2f41-4f92-ba41-2d235599059e",
   "metadata": {},
   "outputs": [],
   "source": [
    "Ans There are two types\n",
    "1.Descriptive     ex-population of data\n",
    "2.interferencial"
   ]
  },
  {
   "cell_type": "markdown",
   "id": "61257b67-5912-43c7-b2a2-7beb2479a40e",
   "metadata": {},
   "source": [
    "Q3. What are the different types of data and how do they differ from each other? Provide an example of\n",
    "each type of data."
   ]
  },
  {
   "cell_type": "code",
   "execution_count": null,
   "id": "3f7935bf-f3bd-4480-ba1e-47d6f7cc9c75",
   "metadata": {},
   "outputs": [],
   "source": [
    "quantative                                                 qualitative\n",
    "\n",
    "1.descrite ex - its is numerical(+,-,*,/)                  1.Nominal ex- Gender(M,F)\n",
    "     ex-Whole no of bank ,no of child                       2.Ordinal ex- customer fedback(Good,Bad,Better)\n",
    "2. contineouse ex it is string/catgorical(class,boy,fire)\n",
    " ex- heiht,weight,width\n",
    "\n",
    "\n",
    "\n",
    "\n"
   ]
  },
  {
   "cell_type": "markdown",
   "id": "140c7e67-3e25-4922-ae2a-1d33b6c56311",
   "metadata": {},
   "source": [
    "Q4. Categorise the following datasets with respect to quantitative and qualitative data types:\n",
    "(i) Grading in exam: A+, A, B+, B, C+, C, D, E\n",
    "(ii) Colour of mangoes: yellow, green, orange, red\n",
    "(iii) Height data of a class: [178.9, 179, 179.5, 176, 177.2, 178.3, 175.8,...]\n",
    "(iv) Number of mangoes exported by a farm: [500, 600, 478, 672, ...]"
   ]
  },
  {
   "cell_type": "code",
   "execution_count": null,
   "id": "544655ee-4d35-40e7-bad6-e6f094dc9972",
   "metadata": {},
   "outputs": [],
   "source": [
    "i  ) Grading in exam: A+, A, B+, B, C+, C, D, E         \n",
    "ANS--Nominal Data\n",
    "ii  Colour of mangoes: yellow, green, orange, red\n",
    "ANS--Descrite\n",
    "iii Height data of a class: [178.9, 179, 179.5, 176, 177.2, 178.3, 175.8,...]\n",
    "ANS-Contineous\n",
    "iv  Number of mangoes exported by a farm: [500, 600, 478, 672, ...]\n",
    "ANS--Ordinal"
   ]
  },
  {
   "cell_type": "markdown",
   "id": "a2e43097-5ef2-4798-aa15-80104d3b7faf",
   "metadata": {},
   "source": [
    "Q7. How nominal data type is different from ordinal data type."
   ]
  },
  {
   "cell_type": "code",
   "execution_count": null,
   "id": "d7b7bb5a-4f05-4852-b16a-4325d506c646",
   "metadata": {},
   "outputs": [],
   "source": [
    "ANS-- Nominal data is  containts Unique Velue(A+,B+,AB+) But ordinal data is Containts rendom value(customer feedback)"
   ]
  },
  {
   "cell_type": "markdown",
   "id": "26cae6ef-ff38-4869-8a8e-e0996b229205",
   "metadata": {},
   "source": [
    "Q8. Which type of plot can be used to display data in terms of range?"
   ]
  },
  {
   "cell_type": "code",
   "execution_count": null,
   "id": "4ccd8224-bcb4-4139-b5b7-a18975919d36",
   "metadata": {},
   "outputs": [],
   "source": [
    "ANS-- Histogram plot and distplot"
   ]
  }
 ],
 "metadata": {
  "kernelspec": {
   "display_name": "Python 3 (ipykernel)",
   "language": "python",
   "name": "python3"
  },
  "language_info": {
   "codemirror_mode": {
    "name": "ipython",
    "version": 3
   },
   "file_extension": ".py",
   "mimetype": "text/x-python",
   "name": "python",
   "nbconvert_exporter": "python",
   "pygments_lexer": "ipython3",
   "version": "3.10.8"
  }
 },
 "nbformat": 4,
 "nbformat_minor": 5
}
