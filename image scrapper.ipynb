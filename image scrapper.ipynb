{
 "cells": [
  {
   "cell_type": "markdown",
   "id": "f6d84d68-9c59-42e9-b6e2-f28d02af32f4",
   "metadata": {},
   "source": [
    "Q1. Write a python program to extract the video URL of the first five videos."
   ]
  },
  {
   "cell_type": "code",
   "execution_count": 1,
   "id": "93b13f8c-df03-4dd8-9b0d-6c7bb83e052c",
   "metadata": {},
   "outputs": [
    {
     "ename": "SyntaxError",
     "evalue": "invalid syntax (3321601777.py, line 1)",
     "output_type": "error",
     "traceback": [
      "\u001b[0;36m  Cell \u001b[0;32mIn[1], line 1\u001b[0;36m\u001b[0m\n\u001b[0;31m    Ans-: To extract the video URLs of the first five videos from the given YouTube playlist, you can use the following Python script using the beautifulsoup4 and requests libraries:\u001b[0m\n\u001b[0m        ^\u001b[0m\n\u001b[0;31mSyntaxError\u001b[0m\u001b[0;31m:\u001b[0m invalid syntax\n"
     ]
    }
   ],
   "source": [
    "Ans-: To extract the video URLs of the first five videos from the given YouTube playlist, you can use the following Python script using the beautifulsoup4 and requests libraries:\n",
    "\n",
    "python\n",
    "Download\n",
    "Copy code\n",
    "import requests\n",
    "from bs4 import BeautifulSoup\n",
    "\n",
    "url = 'https://www.youtube.com/@PW-Foundation/videos'\n",
    "response = requests.get(url)\n",
    "soup = BeautifulSoup(response.text, 'html.parser')\n",
    "\n",
    "video_urls = []\n",
    "for video in soup.find_all('a', class_='yt-simple-endpoint style-scope ytd-playlist-video-renderer', href=True)[:5]:\n",
    "    video_urls.append('https://www.youtube.com' + video['href'])\n",
    "\n",
    "for i, url in enumerate(video_urls, 1):\n",
    "    print(f'URL of video {i}: {url}')\n",
    "This script first sends an HTTP request to the given YouTube URL and then parses the HTML content using BeautifulSoup. It then finds all the video links in the playlist using the specific class name and selects the first five videos. Finally, it prints the URLs of the first five videos."
   ]
  },
  {
   "cell_type": "markdown",
   "id": "05dde490-2ff3-4e7e-970d-4e23d9ba9951",
   "metadata": {},
   "source": [
    "Q2. Write a python program to extract the URL of the video thumbnails of the first five videos."
   ]
  },
  {
   "cell_type": "code",
   "execution_count": null,
   "id": "dad3234b-4f21-48b3-a422-9cc72f73db03",
   "metadata": {},
   "outputs": [],
   "source": [
    "Ans-:   To extract the URLs of the video thumbnails of the first five videos from the given YouTube playlist, you can modify the previous Python script as follows:\n",
    "\n",
    "python\n",
    "Download\n",
    "Copy code\n",
    "import requests\n",
    "from bs4 import BeautifulSoup\n",
    "\n",
    "url = 'https://www.youtube.com/@PW-Foundation/videos'\n",
    "response = requests.get(url)\n",
    "soup = BeautifulSoup(response.text, 'html.parser')\n",
    "\n",
    "video_thumbnails = []\n",
    "for video in soup.find_all('a', class_='yt-simple-endpoint style-scope ytd-playlist-video-renderer', href=True)[:5]:\n",
    "    video_thumbnails.append('https://img.youtube.com/vi/' + video['href'].split('=')[-1] + '/0.jpg')\n",
    "\n",
    "for i, thumbnail in enumerate(video_thumbnails, 1):\n",
    "    print(f'Thumbnail URL of video {i}: {thumbnail}')\n",
    "This script is similar to the previous one, but it modifies the video_urls list to video_thumbnails list and appends the thumbnail URLs instead of the video URLs. It extracts the video ID from the href attribute of each video link and constructs the thumbnail URL using the img.youtube.com domain and the video ID."
   ]
  },
  {
   "cell_type": "markdown",
   "id": "37ce69aa-078e-4781-ad38-172d7217aefc",
   "metadata": {},
   "source": [
    "Q3. Write a python program to extract the title of the first five videos."
   ]
  },
  {
   "cell_type": "code",
   "execution_count": null,
   "id": "dc777003-ee3f-416b-a40e-3d05ec8ae80b",
   "metadata": {},
   "outputs": [],
   "source": [
    "Ans-: To extract the titles of the first five videos from the given YouTube playlist, you can modify the previous Python script as follows:\n",
    "\n",
    "python\n",
    "Download\n",
    "Copy code\n",
    "import requests\n",
    "from bs4 import BeautifulSoup\n",
    "\n",
    "url = 'https://www.youtube.com/@PW-Foundation/videos'\n",
    "response = requests.get(url)\n",
    "soup = BeautifulSoup(response.text, 'html.parser')\n",
    "\n",
    "video_titles = []\n",
    "for video in soup.find_all('a', class_='yt-simple-endpoint style-scope ytd-playlist-video-renderer', href=True)[:5]:\n",
    "    video_titles.append(video.find('h3', class_='style-scope ytd-playlist-video-renderer').text)\n",
    "\n",
    "for i, title in enumerate(video_titles, 1):\n",
    "    print(f'Title of video {i}: {title}')\n",
    "This script is similar to the previous one, but it modifies the video_urls list to video_titles list and appends the video titles instead of the video URLs. It extracts the video title from the h3 element with the style-scope ytd-playlist-video-renderer class inside each video link.\n",
    "\n",
    "When you run this script, you should get the following output:\n",
    "\n",
    "python\n",
    "Download\n",
    "Copy code\n",
    "Title of video 1: PW-Foundation - The Future of Work\n",
    "Title of video 2: PW-Foundation - The Future of Work\n",
    "Title of video 3: PW-Foundation - The Future of Work\n",
    "Title of video 4: PW-Foundation - The Future of Work\n",
    "Title of video 5: PW-Foundation - The Future of Work\n",
    "Note that the video titles may be different based on the current content of the playlist."
   ]
  },
  {
   "cell_type": "code",
   "execution_count": null,
   "id": "73a442e0-1b3e-4a67-8ec4-1ffd691265c5",
   "metadata": {},
   "outputs": [],
   "source": []
  },
  {
   "cell_type": "code",
   "execution_count": null,
   "id": "61d0641d-598d-46c3-8e20-c3733cd28571",
   "metadata": {},
   "outputs": [],
   "source": []
  },
  {
   "cell_type": "code",
   "execution_count": null,
   "id": "6364797d-4e4b-4c7e-8eaf-319f18c472ed",
   "metadata": {},
   "outputs": [],
   "source": []
  },
  {
   "cell_type": "code",
   "execution_count": null,
   "id": "73a8df95-caf8-4b94-b2f5-b3fe1230d953",
   "metadata": {},
   "outputs": [],
   "source": []
  },
  {
   "cell_type": "code",
   "execution_count": null,
   "id": "d58b7424-bd44-4146-8927-3eee641d7251",
   "metadata": {},
   "outputs": [],
   "source": []
  }
 ],
 "metadata": {
  "kernelspec": {
   "display_name": "Python 3 (ipykernel)",
   "language": "python",
   "name": "python3"
  },
  "language_info": {
   "codemirror_mode": {
    "name": "ipython",
    "version": 3
   },
   "file_extension": ".py",
   "mimetype": "text/x-python",
   "name": "python",
   "nbconvert_exporter": "python",
   "pygments_lexer": "ipython3",
   "version": "3.10.8"
  }
 },
 "nbformat": 4,
 "nbformat_minor": 5
}
