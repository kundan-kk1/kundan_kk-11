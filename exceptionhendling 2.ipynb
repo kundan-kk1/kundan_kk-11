{
 "cells": [
  {
   "cell_type": "code",
   "execution_count": null,
   "id": "96a07f40-088b-4da9-9281-cd4921436644",
   "metadata": {},
   "outputs": [],
   "source": [
    "Q.1 ans\n",
    "\n",
    "   We have to use the Exception class while creating a Custom Exception because \n",
    "    it is the base class of all exceptions in Java. \n",
    "    All custom exceptions must extend the Exception class or one of its subclasses.\n",
    "    This is because the Exception class provides the methods that are common to all exceptions, \n",
    "    such as the getMessage() method, which returns the message associated with the exception."
   ]
  },
  {
   "cell_type": "code",
   "execution_count": null,
   "id": "d5b60c63-808c-400a-987b-92f40d857271",
   "metadata": {},
   "outputs": [],
   "source": [
    "Q.2 ans\n",
    "\n",
    "   import sys\n",
    "def print_exception_hierarchy():\n",
    "  \"\"\"Prints the Python Exception Hierarchy.\"\"\"\n",
    "  # Get the list of all exception classes.\n",
    "  exception_classes = sys.modules['exceptions'].__dict__.values()\n",
    "  # Iterate over the exception classes and print their hierarchy.\n",
    "  for exception_class in exception_classes:\n",
    "    if issubclass(exception_class, Exception):\n",
    "      print(exception_class.__name__)\n",
    "      for base_class in exception_class.__bases__:\n",
    "        print('  ' + base_class.__name__)\n",
    "# Print the Python Exception Hierarchy.\n",
    "print_exception_hierarchy()\n"
   ]
  },
  {
   "cell_type": "code",
   "execution_count": null,
   "id": "69b200bf-b3cb-479c-962e-26520181ff01",
   "metadata": {},
   "outputs": [],
   "source": [
    "Q.3 ans\n",
    "  \n",
    "    The ArithmeticError class is the base class of all errors related to arithmetic operations.\n",
    "    It has two subclasses:\n",
    " FloatingPointError: Raised when a floating point operation fails. For example, dividing by zero.\n",
    " ZeroDivisionError: Raised when the second operand of a division or modulo operation is zero.\n"
   ]
  },
  {
   "cell_type": "code",
   "execution_count": null,
   "id": "5f9077bc-77c2-4819-9b9c-188360bd4f23",
   "metadata": {},
   "outputs": [],
   "source": [
    "Q.4 ans\n",
    "\n",
    "    The LookupError class is the base class of all lookup errors,\n",
    "    which occur when a key or an index used on a mapping or sequence is not found. It has two subclasses:\n",
    "- KeyError: Raised when a key is not found in a dictionary. For example:\n",
    "\n",
    ">>> my_dict = {'a': 1, 'b': 2}\n",
    ">>> my_dict['c']\n",
    "\n",
    "\n",
    "\n",
    "- IndexError: Raised when an index is out of range. For example:\n",
    "\n"
   ]
  },
  {
   "cell_type": "code",
   "execution_count": null,
   "id": "644dcca3-8fd8-41db-980a-22702a98508c",
   "metadata": {},
   "outputs": [],
   "source": []
  },
  {
   "cell_type": "code",
   "execution_count": null,
   "id": "e42c37c0-2057-4884-9c36-5885393a6e44",
   "metadata": {},
   "outputs": [],
   "source": []
  }
 ],
 "metadata": {
  "kernelspec": {
   "display_name": "Python 3 (ipykernel)",
   "language": "python",
   "name": "python3"
  },
  "language_info": {
   "codemirror_mode": {
    "name": "ipython",
    "version": 3
   },
   "file_extension": ".py",
   "mimetype": "text/x-python",
   "name": "python",
   "nbconvert_exporter": "python",
   "pygments_lexer": "ipython3",
   "version": "3.10.8"
  }
 },
 "nbformat": 4,
 "nbformat_minor": 5
}
