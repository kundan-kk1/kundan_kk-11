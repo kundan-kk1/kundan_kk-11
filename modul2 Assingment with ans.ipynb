{
 "cells": [
  {
   "cell_type": "code",
   "execution_count": null,
   "id": "c6e9e795-bc8c-4068-9544-c6bc9a293160",
   "metadata": {},
   "outputs": [],
   "source": [
    "Q1. How do you comment code in Python? What are the different types of comments?\n",
    "ANS: Comments in Python are identified with a hash symbol, #, and extend to the end of the line.\n",
    "there are two type of comment\n",
    "1.single line (ex:#)\n",
    "2.multi line(ex:/*........*/)\n",
    "               "
   ]
  },
  {
   "cell_type": "code",
   "execution_count": null,
   "id": "e64b2a79-b967-4738-a2a5-ee22e4809eda",
   "metadata": {},
   "outputs": [],
   "source": [
    "Q2. What are variables in Python? How do you declare and assign values to variables?\n",
    "ANS: A Python variable is a symbolic name that is a reference or pointer to an object.\n",
    "ex n=15\n",
    "b=\"kundan\"\n",
    "c=55.5"
   ]
  },
  {
   "cell_type": "code",
   "execution_count": null,
   "id": "d3284bb8-0137-4ac6-900f-c9e40006bdd2",
   "metadata": {},
   "outputs": [],
   "source": [
    "Q3. How do you convert one data type to another in Python?\n",
    "ANS:simply use the type name as a function.\n",
    "There are several built-in functions to perform conversion from one data type to another. \n",
    "These functions return a new object representing the converted value."
   ]
  },
  {
   "cell_type": "code",
   "execution_count": null,
   "id": "88450b21-0652-4f55-97d3-6e4ed7a41460",
   "metadata": {},
   "outputs": [],
   "source": [
    "Q4. How do you write and execute a Python script from the command line?\n",
    "\n",
    "ANS:open a command-line and type in the word python , or python3 if you have both versions, \n",
    "followed by the path to your script, \n",
    "       just like this: $ python hello.py \n",
    "     \n",
    "        o/p \n",
    "    Hello World!"
   ]
  },
  {
   "cell_type": "code",
   "execution_count": 1,
   "id": "82e46995-c7d0-4542-8a4b-72704748225d",
   "metadata": {},
   "outputs": [
    {
     "ename": "SyntaxError",
     "evalue": "invalid syntax (3996328365.py, line 1)",
     "output_type": "error",
     "traceback": [
      "\u001b[0;36m  Cell \u001b[0;32mIn[1], line 1\u001b[0;36m\u001b[0m\n\u001b[0;31m    Q5. Given a list my_list = [1, 2, 3, 4, 5], write the code to slice the list and obtain the sub-list [2, 3].\u001b[0m\n\u001b[0m              ^\u001b[0m\n\u001b[0;31mSyntaxError\u001b[0m\u001b[0;31m:\u001b[0m invalid syntax\n"
     ]
    }
   ],
   "source": [
    "Q5. Given a list my_list = [1, 2, 3, 4, 5], write the code to slice the list and obtain the sub-list [2, 3].\n",
    "\n",
    "ANS:- my_list=[1,2,3,4,5],\n",
    "print(my_list[1:3])"
   ]
  },
  {
   "cell_type": "code",
   "execution_count": null,
   "id": "67cf2815-4198-4c22-a07e-c07b91ff9534",
   "metadata": {},
   "outputs": [],
   "source": [
    "Q6. What is a complex number in mathematics, and how is it represented in Python?\n",
    "\n",
    "ANS:- It is written in the form of (x + yj) where x and y are real numbers and j \n",
    "is an imaginary number which is the square root of -1"
   ]
  },
  {
   "cell_type": "code",
   "execution_count": null,
   "id": "2c863e40-eab5-47bb-82aa-e38424b0d852",
   "metadata": {},
   "outputs": [],
   "source": [
    "Q7. What is the correct way to declare a variable named age and assign the value 25 to it?\n",
    "\n",
    "ANS:-myAge = 32;\n",
    "\n",
    "'The first one is treated as two characters (technically known as a string of characters)'\n",
    "The second example is treated as a number."
   ]
  },
  {
   "cell_type": "raw",
   "id": "814778e5-39c3-4d0f-8efb-e75472f1cdad",
   "metadata": {},
   "source": [
    "Q8. Declare a variable named price and assign the value 9.99 to it. What data type does this variable\n",
    "belong to?\n",
    "\n",
    "ANS:-prize=9.99\n",
    "\n",
    "basicly prize is a veriable name And 9.99 is a verialbe value and this velue is type of float ya decimal velue"
   ]
  },
  {
   "cell_type": "code",
   "execution_count": null,
   "id": "23a952a9-2fa8-4f14-b114-8da0a046344c",
   "metadata": {},
   "outputs": [],
   "source": [
    "Q9. Create a variable named name and assign your full name to it as a string. How would you print the\n",
    "value of this variable?\n",
    "\n",
    "ans: firstly we create a verialbe name which name is 'name' and provide its velue full name and then we do print name verialbe\n",
    "   \n",
    "    \n",
    "    name=\"kundan kumar\"\n",
    "    print(name)\n",
    "    \n",
    "    O/P \"kundan kumar\""
   ]
  },
  {
   "cell_type": "code",
   "execution_count": null,
   "id": "05a90267-8d92-4cc1-9352-ce2b72f057bd",
   "metadata": {},
   "outputs": [],
   "source": [
    "Q10. Given the string \"Hello, World!\", extract the substring \"World\".\n",
    "ANS:-\n",
    "string = \"hello world\"\n",
    "print(string[:5])"
   ]
  },
  {
   "cell_type": "code",
   "execution_count": null,
   "id": "1f321ff1-2f9b-4789-962b-708c5b2db708",
   "metadata": {},
   "outputs": [],
   "source": [
    "Q11. Create a variable named \"is_student\" and assign it a boolean value indicating whether you are\n",
    "currently a student or not.\n",
    "ANS: is_student=true\n",
    "print(is_student)"
   ]
  }
 ],
 "metadata": {
  "kernelspec": {
   "display_name": "Python 3 (ipykernel)",
   "language": "python",
   "name": "python3"
  },
  "language_info": {
   "codemirror_mode": {
    "name": "ipython",
    "version": 3
   },
   "file_extension": ".py",
   "mimetype": "text/x-python",
   "name": "python",
   "nbconvert_exporter": "python",
   "pygments_lexer": "ipython3",
   "version": "3.10.8"
  }
 },
 "nbformat": 4,
 "nbformat_minor": 5
}
