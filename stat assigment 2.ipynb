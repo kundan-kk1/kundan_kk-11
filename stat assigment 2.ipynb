{
 "cells": [
  {
   "cell_type": "markdown",
   "id": "09d58e2c-9a4c-4e1a-b153-744a8c11775f",
   "metadata": {},
   "source": [
    "Q1. What are the three measures of central tendency?"
   ]
  },
  {
   "cell_type": "code",
   "execution_count": null,
   "id": "a54c7cc8-1f1d-4230-8ac4-a2fd1ea2e12a",
   "metadata": {},
   "outputs": [],
   "source": [
    "The three measures of central tendency are:\n",
    "1. Mean: The mean, also known as the average, is the sum of all the values divided by the number of values in a dataset. It is a measure of the central location of a dataset and is often used to summarize the data.\n",
    "2. Median: The median is the middle value in a dataset when the values are arranged in order from smallest to largest. It is a measure of the central location of a dataset that is not affected by outliers, which are extreme values that are significantly different from the rest of the data.\n",
    "3. Mode: The mode is the value that occurs most frequently in a dataset. It is a measure of the central location of a dataset that is useful when the data is categorical or when there are multiple values that occur frequently."
   ]
  },
  {
   "cell_type": "markdown",
   "id": "061b4eef-85fc-4477-a27c-10b173809cc0",
   "metadata": {},
   "source": [
    "Q2. What is the difference between the mean, median, and mode? How are they used to measure the\n",
    "central tendency of a dataset?"
   ]
  },
  {
   "cell_type": "code",
   "execution_count": null,
   "id": "a6892452-49dc-427c-8d9f-7f56c562d7af",
   "metadata": {},
   "outputs": [],
   "source": [
    "The mean, median, and mode are three measures of central tendency that are used to summarize the typical value in a dataset. \n",
    "1. **Mean**:  The mean is calculated by adding up all the values in a dataset and then dividing by the number of values. It is often referred to as the average. The mean is sensitive to outliers, which are extreme values that are significantly different from the rest of the data. If a dataset has a lot of outliers, the mean may not be a good measure of central tendency. \n",
    "2. **Median**: The median is the middle value in a dataset when the values are arranged in order from smallest to largest. The median is not affected by outliers, which makes it a more robust measure of central tendency than the mean. However, the median does not provide as much information about the distribution of the data as the mean.\n",
    "3. **Mode**: The mode is the value that occurs most frequently in a dataset. The mode is useful for identifying the most common value in a dataset, but it is not as informative as the mean or median about the overall distribution of the data. \n",
    "The choice of which measure of central tendency to use depends on the specific dataset and the purpose of the analysis. If the dataset has a lot of outliers, the median or mode may be a better choice than the mean. If the data is skewed, the mean may not be a good measure of central tendency. In general, it is best to use all three measures of central tendency to get a complete picture of the distribution of the data."
   ]
  },
  {
   "cell_type": "markdown",
   "id": "e65c15d5-5985-4eef-ae7b-32d64a0ee28f",
   "metadata": {},
   "source": [
    "Q3. Measure the three measures of central tendency for the given height data:\n",
    "[178,177,176,177,178.2,178,175,179,180,175,178.9,176.2,177,172.5,178,176.5]"
   ]
  },
  {
   "cell_type": "code",
   "execution_count": null,
   "id": "768522d5-3afb-44a8-bc4a-693da506c221",
   "metadata": {},
   "outputs": [],
   "source": [
    "The mean is the average of all the values in the dataset. To calculate the mean, we add up all the values and then divide by the number of values. In this case, the mean is (178 + 177 + 176 + 177 + 178.2 + 178 + 175 + 179 + 180 + 175 + 178.9 + 176.2 + 177 + 172.5 + 178 + 176.5) / 16 = 177.25.\n",
    "The median is the middle value in the dataset when the values are arranged in order from smallest to largest. In this case, the values are: 172.5, 175, 175, 176, 176.2, 176.5, 177, 177, 177, 178, 178, 178.2, 178.9, 179, 180. The middle value is 177."
   ]
  },
  {
   "cell_type": "markdown",
   "id": "fd1f0318-d933-40c7-ad8b-1c652a3b0595",
   "metadata": {},
   "source": [
    "Q6. What is a Venn diagram?"
   ]
  },
  {
   "cell_type": "code",
   "execution_count": null,
   "id": "293c41c8-e114-4063-991d-27c821b3ec4e",
   "metadata": {},
   "outputs": [],
   "source": [
    " A probability distribution is a function that describes the likelihood of different outcomes in a random experiment. It can be represented graphically as a histogram, a bar chart, or a probability density function (PDF).\n",
    "A probability density function (PDF) is a function that describes the probability of a continuous random variable taking on a particular value. It is often used to model the distribution of a random variable in statistics."
   ]
  },
  {
   "cell_type": "markdown",
   "id": "ad3782c3-6518-4551-9fd0-e358de754741",
   "metadata": {},
   "source": [
    "Q8. What do you understand about skewness in data?"
   ]
  },
  {
   "cell_type": "code",
   "execution_count": null,
   "id": "28ac5ae1-399d-40f9-a56a-7b1a32b48259",
   "metadata": {},
   "outputs": [],
   "source": [
    "Skewness is a measure of the asymmetry of a distribution. A distribution is skewed if it is not symmetric, meaning that one tail is longer than the other. The skewness coefficient is a measure of how much the distribution is skewed, and it can be positive or negative. A positive skewness coefficient indicates that the tail is longer in the right, while a negative skewness coefficient indicates that the tail is longer on the left."
   ]
  },
  {
   "cell_type": "markdown",
   "id": "6011b63c-4ba2-4ddf-8fea-9a35c7cc1c50",
   "metadata": {},
   "source": [
    "Q13. How is covariance different from correlation?"
   ]
  },
  {
   "cell_type": "code",
   "execution_count": null,
   "id": "f56a2c3b-69e6-4907-951f-93667e0c0f1b",
   "metadata": {},
   "outputs": [],
   "source": [
    " \n",
    "Covariance and correlation are two closely related measures of the relationship between two random variables. However, there are some key differences between the two.\n",
    "* **Covariance** is a measure of the tendency of two random variables to vary together. It is calculated by multiplying the covariance of the two variables by the standard deviation of each variable. Covariance can be positive or negative, and it can take on any value between -∞ and ∞.\n",
    "* **Correlation** is a measure of the strength of the linear relationship between two random "
   ]
  }
 ],
 "metadata": {
  "kernelspec": {
   "display_name": "Python 3 (ipykernel)",
   "language": "python",
   "name": "python3"
  },
  "language_info": {
   "codemirror_mode": {
    "name": "ipython",
    "version": 3
   },
   "file_extension": ".py",
   "mimetype": "text/x-python",
   "name": "python",
   "nbconvert_exporter": "python",
   "pygments_lexer": "ipython3",
   "version": "3.10.8"
  }
 },
 "nbformat": 4,
 "nbformat_minor": 5
}
