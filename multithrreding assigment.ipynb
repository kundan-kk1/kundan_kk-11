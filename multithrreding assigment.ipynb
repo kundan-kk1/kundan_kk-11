{
 "cells": [
  {
   "cell_type": "code",
   "execution_count": null,
   "id": "cceef730-be49-4449-8cac-b7e89477318b",
   "metadata": {},
   "outputs": [],
   "source": [
    "Q.1 ans\n",
    "\n",
    "   Multithreading is a programming technique that allows a program to run multiple tasks at the same time.\n",
    "    This can be useful for programs that need to perform multiple tasks that are not dependent on each other.\n",
    "    For example, a program that needs to download a file and then process it can use multithreading to download \n",
    "    the file in one thread and process it in another thread.\n",
    "There are several reasons why multithreading is used. One reason is to improve performance.\n",
    "By running multiple tasks at the same time, a program can complete tasks faster than\n",
    "if it were to run them one at a time. Another reason for using multithreading is to improve responsiveness. \n",
    "By running multiple tasks at the same time, a program can respond to user input more quickly.\n",
    "The module used to handle threads in Python is the threading module. \n",
    "The threading module provides a number of classes and functions that can be used to create and manage threads."
   ]
  },
  {
   "cell_type": "code",
   "execution_count": null,
   "id": "2edc57b5-ba9f-437e-9d41-77cf859973b2",
   "metadata": {},
   "outputs": [],
   "source": [
    "Q.2 ans\n",
    "\n",
    "   The threading module is used to create and manage threads in Python. \n",
    "    Threads are lightweight processes that can run concurrently with each other.\n",
    "The threading module provides a number of classes and functions that can be used to create and manage threads.\n",
    "The activeCount() function returns the number of active threads in the current process.\n",
    "The currentThread() function returns the current thread object.\n",
    "The enumerate() function returns a list of all the threads in the current process."
   ]
  },
  {
   "cell_type": "code",
   "execution_count": null,
   "id": "500aa73e-6a9a-45b1-960b-0ea9c7c4c7da",
   "metadata": {},
   "outputs": [],
   "source": [
    "Q.3 ans\n",
    "\n",
    "  The run() function is the main function of a thread. \n",
    "    It is responsible for executing the code that the thread is supposed to run.\n",
    "The start() function starts a thread. It causes the thread to begin executing its run() function.\n",
    "The join() function waits for a thread to finish executing.\n",
    "It blocks the current thread until the specified thread terminates.\n",
    "The isAlive() function returns a Boolean value indicating whether a thread is still running."
   ]
  },
  {
   "cell_type": "code",
   "execution_count": null,
   "id": "9d369589-9457-4444-a3ad-72e9b5901fc4",
   "metadata": {},
   "outputs": [],
   "source": [
    "Q.4 ans\n",
    "\n",
    "  import threading\n",
    "def squares(n):\n",
    "  \"\"\"Prints the list of squares from 1 to n.\"\"\"\n",
    "  for i in range(1, n + 1):\n",
    "    print(i * i)\n",
    "def cubes(n):\n",
    "  \"\"\"Prints the list of cubes from 1 to n.\"\"\"\n",
    "  for i in range(1, n + 1):\n",
    "    print(i * i * i)\n",
    "if __name__ == \"__main__\":\n",
    "  # Create two threads.\n",
    "  thread1 = threading.Thread(target=squares, args=(10,))\n",
    "  thread2 = threading.Thread(target=cubes, args=(10,))\n",
    "  # Start the threads.\n",
    "  thread1.start()\n",
    "  thread2.start()\n",
    "  # Wait for the threads to finish.\n",
    "  thread1.join()\n",
    "  thread2.join()\n"
   ]
  },
  {
   "cell_type": "code",
   "execution_count": null,
   "id": "cf3c098b-3c91-4058-a04f-339c5c12837b",
   "metadata": {},
   "outputs": [],
   "source": [
    "Q.5 ans\n",
    "\n",
    "  There are several advantages to using multithreading in Python.\n",
    "* **Improved performance:** Multithreading can improve performance by allowing multiple tasks to run concurrently. \n",
    "This can be useful for programs that need to perform multiple tasks that are not dependent on each other.\n",
    "\n",
    "* **Improved responsiveness:** Multithreading can improve responsiveness by allowing a program to respond to user input more quickly. This can be useful for programs that need to be able to respond to user input in real time.\n",
    "\n",
    "* **Reduced resource usage:** Multithreading can reduce resource usage by allowing multiple tasks to share resources. This can be useful for programs that need to conserve resources.\n",
    "\n",
    "There are also some disadvantages to using multithreading in Python.\n",
    "\n",
    "* **Synchronization:** Multithreading can be difficult to synchronize. This is because it can be difficult to ensure that multiple threads do not access the same data at the same time.\n",
    "\n",
    "* **Deadlocks:** Multithreading can lead to deadlocks. A deadlock occurs when two or more threads are waiting for each other to release a resource.\n",
    "\n",
    "* **Concurrency:** Multithreading can lead to concurrency problems. A concurrency problem occurs when two or more threads are trying to access the same data at the same time."
   ]
  },
  {
   "cell_type": "code",
   "execution_count": null,
   "id": "93524f11-1c9f-43a3-844d-1a5c292ad1ac",
   "metadata": {},
   "outputs": [],
   "source": [
    "Q.6 ans\n",
    "\n",
    "  A deadlock occurs when two or more threads are waiting for each other to release a resource. \n",
    "This can happen when two threads are each holding a lock on a resource and \n",
    "each thread is waiting for the other thread to release its lock.\n",
    "A race condition occurs when two or more threads are trying to access the same data at the same time. \n",
    "This can lead to unexpected results, such as one thread overwriting data that another \n",
    "thread has already written.\n",
    "Both deadlocks and race conditions can be avoided by using synchronization techniques.\n",
    "Synchronization techniques allow threads to coordinate their access to shared resources."
   ]
  },
  {
   "cell_type": "code",
   "execution_count": null,
   "id": "122008e9-da8d-41ac-8383-21e89320126b",
   "metadata": {},
   "outputs": [],
   "source": []
  }
 ],
 "metadata": {
  "kernelspec": {
   "display_name": "Python 3 (ipykernel)",
   "language": "python",
   "name": "python3"
  },
  "language_info": {
   "codemirror_mode": {
    "name": "ipython",
    "version": 3
   },
   "file_extension": ".py",
   "mimetype": "text/x-python",
   "name": "python",
   "nbconvert_exporter": "python",
   "pygments_lexer": "ipython3",
   "version": "3.10.8"
  }
 },
 "nbformat": 4,
 "nbformat_minor": 5
}
