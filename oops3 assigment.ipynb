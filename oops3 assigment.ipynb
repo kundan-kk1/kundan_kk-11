{
 "cells": [
  {
   "cell_type": "code",
   "execution_count": null,
   "id": "6c2476ef-a377-4988-85ab-88cd83dfadae",
   "metadata": {},
   "outputs": [],
   "source": [
    "Q.1 Ans\n",
    "  In object-oriented programming, a class is a blueprint for creating objects. \n",
    "    It defines the properties and methods of an object, \n",
    "    as well as the relationships between objects. An object is an instance of a class,\n",
    "    and it has its own unique state and behavior.\n",
    "For example, a class called \"Dog\" could have properties such as name, breed, and age. \n",
    "It could also have methods such as bark(), wagTail(), and eat(). \n",
    "An object of the Dog class would have its own unique name, breed, \n",
    "and age, and it would be able to bark, wag its tail, and eat.\n"
   ]
  },
  {
   "cell_type": "code",
   "execution_count": null,
   "id": "aa356fdb-5775-4c79-8139-1050551c52ad",
   "metadata": {},
   "outputs": [],
   "source": [
    "Q.2 ans\n",
    "  Abstraction:** The ability to hide the implementation details of an object from the user.\n",
    "* Encapsulation:** The bundling of data and methods into a single unit.\n",
    "* Inheritance:** The ability for one class to inherit the properties and methods of another class.\n",
    "* Polymorphism:** The ability for an object to behave differently depending on its type."
   ]
  },
  {
   "cell_type": "code",
   "execution_count": null,
   "id": "c955a080-f859-4a9e-9faf-f128042240db",
   "metadata": {},
   "outputs": [],
   "source": [
    "Q.3 ans\n",
    "    \n",
    "The __init__() function is used to initialize an object's state. \n",
    "It is called when an object is created, and it is used to set the initial values of the object's properties.\n",
    "For example, the following code creates a class called \"Dog\" with two properties, name and breed:\n",
    "\n",
    "class Dog:\n",
    "    def __init__(self, name, breed):\n",
    "        self.name = name\n",
    "        self.breed = breed\n",
    "​"
   ]
  },
  {
   "cell_type": "code",
   "execution_count": null,
   "id": "b5151a4d-f2da-4abd-8153-6b40a0de5708",
   "metadata": {},
   "outputs": [],
   "source": [
    "Q.4 ans\n",
    "\n",
    "    he self keyword is used in object-oriented programming to refer to the current object. \n",
    "    It is used in methods to access the object's properties and methods.\n",
    "For example, the following code creates a class called \"Dog\" with two properties, name and breed:\n",
    "\n",
    "class Dog:\n",
    "    def __init__(self, name, breed):\n",
    "        self.name = name\n",
    "        self.breed = breed\n",
    "    def bark(self):\n",
    "        print(f\"{self.name} is barking!\")\n",
    "​"
   ]
  },
  {
   "cell_type": "code",
   "execution_count": null,
   "id": "9706af6f-a199-4a08-acd5-3cf696500695",
   "metadata": {},
   "outputs": [],
   "source": [
    "Q.5 ans\n",
    "\n",
    "   Inheritance is the ability for one class to inherit the properties and methods of another class. \n",
    "    This allows you to create new classes that are based on existing classes, \n",
    "    without having to rewrite all of the code from scratch.\n",
    "There are two types of inheritance:\n",
    "* **Single inheritance:** A class can inherit from only one other class.\n",
    "* **Multilevel inheritance:** A class can inherit from multiple other classes, in a hierarchical fashion.\n",
    "For example, the following code shows a simple example of single inheritance:\n",
    "\n",
    "\n",
    "    class Animal:\n",
    "    def __init__(self, name):\n",
    "        self.name = name\n",
    "    def eat(self):\n",
    "        print(f\"{self.name} is eating!\")\n",
    "class Dog(Animal):\n",
    "    def bark(self):\n",
    "        print(f\"{self.name} is barking!\")\n",
    "​\n",
    "\n",
    "In this example, the Dog class inherits from the Animal class. \n",
    "This means that the Dog class has all of the properties and methods of the Animal class, \n",
    "plus any additional properties and methods that are defined in the Dog class.\n",
    "The following code shows a simple example of multilevel inheritance:\n",
    "\n",
    "class Animal:\n",
    "    def __init__(self, name):\n",
    "        self.name = name\n",
    "    def eat(self):\n",
    "        print(f\"{self.name} is eating!\")\n",
    "class Dog(Animal):\n",
    "    def bark(self):\n",
    "        print(f\"{self.name} is barking!\")\n",
    "class GoldenRetriever(Dog):\n",
    "    def fetch(self):\n",
    "        print(f\"{self.name} is fetching!\")"
   ]
  }
 ],
 "metadata": {
  "kernelspec": {
   "display_name": "Python 3 (ipykernel)",
   "language": "python",
   "name": "python3"
  },
  "language_info": {
   "codemirror_mode": {
    "name": "ipython",
    "version": 3
   },
   "file_extension": ".py",
   "mimetype": "text/x-python",
   "name": "python",
   "nbconvert_exporter": "python",
   "pygments_lexer": "ipython3",
   "version": "3.10.8"
  }
 },
 "nbformat": 4,
 "nbformat_minor": 5
}
