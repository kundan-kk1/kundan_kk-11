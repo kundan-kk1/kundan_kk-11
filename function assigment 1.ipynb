{
 "cells": [
  {
   "cell_type": "code",
   "execution_count": 11,
   "id": "3cda4f64-0c22-44cf-a310-b6b6aed09410",
   "metadata": {},
   "outputs": [],
   "source": [
    "Q.1 ans\n",
    "def odd_numbers(n):\n",
    "  return [x for x in range(n + 1) if x % 2 == 1]\n"
   ]
  },
  {
   "cell_type": "code",
   "execution_count": null,
   "id": "88dcbc6d-105c-4eba-b57a-a5178c71c5aa",
   "metadata": {},
   "outputs": [],
   "source": [
    "Q2 ans\n",
    "\n",
    "def my_function(*args):\n",
    "  for arg in args:\n",
    "    print(arg)\n",
    "    my_function(1,2,3)\n",
    "    "
   ]
  },
  {
   "cell_type": "code",
   "execution_count": null,
   "id": "56080243-0635-4d14-81a9-b3bfaaf908aa",
   "metadata": {},
   "outputs": [],
   "source": [
    "def my_function(**kwargs):\n",
    "  for key, value in kwargs.items():\n",
    "    print(f\"{key}={value}\")\n",
    "    my_function(name=\"kundan\",age=24"
   ]
  },
  {
   "cell_type": "code",
   "execution_count": null,
   "id": "cb90c679-2c06-4f42-b7db-debd0aab8815",
   "metadata": {},
   "outputs": [],
   "source": [
    "Q.3 ans\n",
    "list_iterator = iter([2, 4, 6, 8, 10, 12, 14, 16, 18, 20])\n",
    "for i in range(5):\n",
    "    print(next(list_iterator))"
   ]
  },
  {
   "cell_type": "code",
   "execution_count": null,
   "id": "33648dd5-7ce3-4256-8809-bc15f2c0dd0e",
   "metadata": {},
   "outputs": [],
   "source": [
    "Q.4 ans\n",
    "A generator function is a function that returns an iterator.\n",
    "It is defined using the `yield` keyword. \n",
    "The `yield` keyword suspends the execution of the function and returns a value. \n",
    "When the generator function is called again, it resumes execution from the point where it was suspended.\n",
    "Generator functions are useful for creating iterators that can be used to iterate over large \n",
    "data sets without having to load the entire data set into memory. For example, \n",
    "the following generator function generates the Fibonacci sequence:\n",
    "    \n",
    "    \n",
    "    def fibonacci():\n",
    "    a, b = 0, 1\n",
    "    while True:\n",
    "        yield a\n",
    "        a, b = b, a + b\n",
    "    for i in fibonacci(10):\n",
    "        print(i)\n",
    "    \n",
    "    The `yield` keyword is used in generator functions to ,\n",
    "    return a value from the function without terminating the function.\n",
    "This allows the generator function to be used in a for loop, as shown in the example above.\n",
    "Generator functions are a powerful tool for creating iterators. \n",
    "They can be used to iterate over large data sets without having to load the entire data set into memory."
   ]
  },
  {
   "cell_type": "code",
   "execution_count": null,
   "id": "65410767-26c4-4e57-bacb-e68e203b10f1",
   "metadata": {},
   "outputs": [],
   "source": [
    "Q.5 ans\n",
    "\"\"\"here is a generator function for prime numbers less than 1000:\"\"\"\n",
    "\n",
    "def prime_numbers():\n",
    "    for i in range(2, 1000):\n",
    "        if all(i % j != 0 for j in range(2, int(i ** 0.5) + 1)):\n",
    "            yield i\n",
    "          \n",
    "        \"\"\"To use the generator function, we can use the `next()`\n",
    "        method to print the first 20 prime numbers:\"\"\"\n",
    "\n",
    "for i in prime_numbers():\n",
    "    if i < 1000:\n",
    "        print(i)\n",
    "    else:\n",
    "        break\n",
    "​  \n",
    "            "
   ]
  },
  {
   "cell_type": "code",
   "execution_count": null,
   "id": "d6dd435f-037e-48f8-b964-088a54a3637e",
   "metadata": {},
   "outputs": [],
   "source": [
    "Q.6 ans\n",
    "a = 0\n",
    "b = 1\n",
    "print(a)\n",
    "print(b)\n",
    "while b < 10:\n",
    "    a, b = b, a + b\n",
    "    print(b)"
   ]
  },
  {
   "cell_type": "code",
   "execution_count": null,
   "id": "2f2b9b44-a9cb-487a-a0c6-59e347209b34",
   "metadata": {},
   "outputs": [],
   "source": [
    "Q.7 ans\n",
    "['p', 'w', 's', 'k', 'i', 'l', 'l', 's']"
   ]
  },
  {
   "cell_type": "code",
   "execution_count": null,
   "id": "a3b991b8-9d8d-4fda-99f1-6b3f8fb4488e",
   "metadata": {},
   "outputs": [],
   "source": [
    "Q.8 ans\n",
    "def is_palindrome(n):\n",
    "    n = str(n)\n",
    "    start = 0\n",
    "    end = len(n) - 1\n",
    "    while start < end:\n",
    "        if n[start] != n[end]:\n",
    "            return False\n",
    "        start += 1\n",
    "        end -= 1\n",
    "    return True\n",
    "n = int(input(\"Enter a number: \"))\n",
    "if is_palindrome(n):\n",
    "    print(\"The number is a palindrome.\")\n",
    "else:\n",
    "    print(\"The number is not a palindrome.\")"
   ]
  },
  {
   "cell_type": "code",
   "execution_count": null,
   "id": "2f213aca-79aa-4e53-919d-6a35d8d06af8",
   "metadata": {},
   "outputs": [],
   "source": [
    "Q.9 ans\n",
    "odd_numbers = [x for x in range(1, 101) if x % 2 != 0]\n",
    "print(odd_numbers)"
   ]
  },
  {
   "cell_type": "code",
   "execution_count": null,
   "id": "56a70281-db2c-4a74-86a5-25f766604439",
   "metadata": {},
   "outputs": [],
   "source": []
  }
 ],
 "metadata": {
  "kernelspec": {
   "display_name": "Python 3 (ipykernel)",
   "language": "python",
   "name": "python3"
  },
  "language_info": {
   "codemirror_mode": {
    "name": "ipython",
    "version": 3
   },
   "file_extension": ".py",
   "mimetype": "text/x-python",
   "name": "python",
   "nbconvert_exporter": "python",
   "pygments_lexer": "ipython3",
   "version": "3.10.8"
  }
 },
 "nbformat": 4,
 "nbformat_minor": 5
}
