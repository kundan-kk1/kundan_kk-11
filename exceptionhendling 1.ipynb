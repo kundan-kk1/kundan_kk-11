{
 "cells": [
  {
   "cell_type": "code",
   "execution_count": null,
   "id": "532a6579-6115-4873-aff9-3a6f51fc6266",
   "metadata": {},
   "outputs": [],
   "source": [
    "Q.1 ans\n",
    "   \n",
    "    Exception is a Python keyword that is used to handle errors or exceptions that occur during the execution.\n",
    "of a program. It is used to catch and handle errors that may occur during the execution of a program,\n",
    "such as syntax errors, logical errors, or runtime errors.\n",
    "Syntax errors occur when a programmer writes code that is not properly structured and does not follow \n",
    "the syntax rules of the Python programming language. These errors are usually easy to identify and fix,\n",
    "but they can cause the program to fail to run.\n",
    "Logical errors occur when the code runs without any syntax errors, but the program's logic is incorrect. \n",
    "These errors can be caused by incorrect calculations, incorrect variable assignments, or incorrect data types.\n",
    "Runtime errors occur when the program runs without any syntax or logical errors, \n",
    "but the program encounters an error that occurs during runtime. \n",
    "These errors can be caused by invalid user input, file access errors, or network connection issues.\n",
    "In summary, the difference between exceptions and errors is that exceptions are used to catch and handle errors\n",
    "that occur during the execution of a program, while errors are used to indicate that something went wrong\n",
    "during the execution of a program."
   ]
  },
  {
   "cell_type": "code",
   "execution_count": null,
   "id": "d5084cc7-189f-4070-b499-6c1ed23f5d0c",
   "metadata": {},
   "outputs": [],
   "source": [
    "Q.2 ans\n",
    "  \n",
    "    When an exception is not handled, it means that the program stops running and the exception is raised. \n",
    "    This can happen if an exception occurs in a try block that is not caught by any except block. \n",
    "    The exception can be raised for various reasons, such as a syntax error or an invalid user input.\n",
    "To handle an exception, you need to use a try-except block.\n",
    "The try block contains the code that might raise an exception,\n",
    "while the except block contains the code that handles the exception. \n",
    "The except block should specify the exception type that it is handling, \n",
    "so that it only catches the exceptions that are raised by that type.\n",
    "  \n",
    "    example:\n",
    "        try:\n",
    "    x = int(input(\"Enter a number: \"))\n",
    "    y = 1 / x\n",
    "    print(y)\n",
    "except ZeroDivisionError:\n",
    "    print(\"Cannot divide by zero!\")\n"
   ]
  },
  {
   "cell_type": "code",
   "execution_count": null,
   "id": "2f214091-621c-4edd-a1fa-7aef7b442db0",
   "metadata": {},
   "outputs": [],
   "source": [
    "Q.3 ans\n",
    "\n",
    "    The Python programming language provides several statements that can be used to handle exceptions.\n",
    "    These statements are:\n",
    "* try:\n",
    "* except:\n",
    "* finally:\n",
    "The try statement is used to identify the code that might raise an exception. \n",
    "The except statement is used to handle the exception.\n",
    "The finally statement is used to execute code regardless of whether or not an exception is raised."
   ]
  },
  {
   "cell_type": "code",
   "execution_count": null,
   "id": "dd072172-60b7-468a-b4aa-ecbaa7f683d0",
   "metadata": {},
   "outputs": [],
   "source": [
    "Q.4 ans\n",
    "\n",
    "  The try-except-else statement is used to handle exceptions. \n",
    "    The try block contains the code that might raise an exception. \n",
    "    The except block contains the code that handles the exception. \n",
    "    The else block contains the code that is executed if no exception is raised.\n",
    "Here is an example of a try-except-else statement:\n",
    "\n",
    "try:\n",
    "    # Code that might raise an exception\n",
    "except Exception as e:\n",
    "    # Handle the exception\n",
    "else:\n",
    "    # This code is executed if no exception is raised\n",
    "\n",
    "try:\n",
    "    # Code that might raise an exception\n",
    "except Exception as e:\n",
    "    # Handle the exception\n",
    "else:\n",
    "    # This code is executed if no exception is raised\n"
   ]
  },
  {
   "cell_type": "code",
   "execution_count": null,
   "id": "698c7b4e-f80b-4ed7-b9ed-a674ad8b5b19",
   "metadata": {},
   "outputs": [],
   "source": [
    "Q.5 ans\n",
    "  \n",
    "    A custom exception is a type of exception that you create yourself. \n",
    "    It is useful when you want to handle an exception in a specific way, \n",
    "    or when you want to provide more information about the exception to the user.\n",
    "To create a custom exception, you need to create a class that inherits from the Exception class. The \n",
    "class can contain any attributes that you want to use to store information about the exception.\n",
    "Here is an example of a custom exception class:\n",
    "\n",
    "class MyException(Exception):\n",
    "    \"\"\"A custom exception class.\"\"\"\n",
    "    def __init__(self, message):\n",
    "        \"\"\"Initialize the exception with a message.\"\"\"\n",
    "        super().__init__(message)\n",
    "        # Store the message in an attribute.\n",
    "        self.message = message\n"
   ]
  },
  {
   "cell_type": "code",
   "execution_count": null,
   "id": "9fa2c15e-8ee1-4cb1-bdba-1ec7ac09de7d",
   "metadata": {},
   "outputs": [],
   "source": [
    "Q.6 ans\n",
    "\n",
    "   class MyException(Exception):\n",
    "    \"\"\"A custom exception class.\"\"\"\n",
    "    def __init__(self, message):\n",
    "        \"\"\"Initialize the exception with a message.\"\"\"\n",
    "        super().__init__(message)\n",
    "        # Store the message in an attribute.\n",
    "        self.message = message\n"
   ]
  }
 ],
 "metadata": {
  "kernelspec": {
   "display_name": "Python 3 (ipykernel)",
   "language": "python",
   "name": "python3"
  },
  "language_info": {
   "codemirror_mode": {
    "name": "ipython",
    "version": 3
   },
   "file_extension": ".py",
   "mimetype": "text/x-python",
   "name": "python",
   "nbconvert_exporter": "python",
   "pygments_lexer": "ipython3",
   "version": "3.10.8"
  }
 },
 "nbformat": 4,
 "nbformat_minor": 5
}
