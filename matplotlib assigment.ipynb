{
 "cells": [
  {
   "cell_type": "markdown",
   "id": "ca3fe6b9-0dd2-431a-b882-7a635ec8c149",
   "metadata": {},
   "source": [
    "Q.1Q1: What is Matplotlib? Why is it used? Name five plots that can be plotted using the Pyplot module of\n",
    "Matplotlib."
   ]
  },
  {
   "cell_type": "code",
   "execution_count": 1,
   "id": "8915853d-da05-4cc6-a452-db91324b8236",
   "metadata": {},
   "outputs": [
    {
     "ename": "SyntaxError",
     "evalue": "invalid syntax (404109664.py, line 1)",
     "output_type": "error",
     "traceback": [
      "\u001b[0;36m  Cell \u001b[0;32mIn[1], line 1\u001b[0;36m\u001b[0m\n\u001b[0;31m    ANS-:Matplotlib is a popular Python library used for creating static, animated, and interactive visualizations in Python. It provides an object-oriented API for embedding plots into applications using general-purpose GUI toolkits like Tkinter, wxPython, Qt, or GTK.\u001b[0m\n\u001b[0m        ^\u001b[0m\n\u001b[0;31mSyntaxError\u001b[0m\u001b[0;31m:\u001b[0m invalid syntax\n"
     ]
    }
   ],
   "source": [
    "ANS-:Matplotlib is a popular Python library used for creating static, animated, and interactive visualizations in Python. It provides an object-oriented API for embedding plots into applications using general-purpose GUI toolkits like Tkinter, wxPython, Qt, or GTK.\n",
    "\n",
    "The Pyplot module in Matplotlib is a collection of functions that make matplotlib work like MATLAB. It is a convenient way to create simple visualizations when you do not need the full flexibility of the OO-style.\n",
    "\n",
    "Here are five plots that can be plotted using the Pyplot module of Matplotlib:\n",
    "\n",
    "Line plot: A line plot is a type of plot that displays information as a series of data points connected by straight line segments. It is commonly used to visualize trends over time.\n",
    "\n",
    "Scatter plot: A scatter plot is a type of plot that displays data as a collection of points. Each point represents a single data point, and the points are usually colored or shaded to represent different categories.\n",
    "\n",
    "Bar plot: A bar plot is a type of plot that represents categorical data with rectangular bars. The height or length of each bar represents a value. Bar plots are commonly used to compare the frequencies of different categories.\n",
    "\n",
    "Histogram: A histogram is a type of plot that represents the distribution of a continuous variable by dividing the range of the variable into intervals and counting the number of observations that fall into each interval.\n",
    "\n",
    "Pie chart: A pie chart is a circular statistical graphic that is divided into slices to illustrate numerical proportion. In a pie chart, the arc length of each slice is proportional to the quantity it represents.\n",
    "\n",
    "Here is an example code snippet that demonstrates how to create a line plot using the Pyplot module of Matplotlib:\n",
    "\n",
    "python\n",
    "Download\n",
    "Copy code\n",
    "import matplotlib.pyplot as plt\n",
    "\n",
    "# Sample data\n",
    "x = [1, 2, 3, 4, 5]\n",
    "y = [2, 4, 6, 8, 10]\n",
    "\n",
    "# Create a line plot\n",
    "plt.plot(x, y)\n",
    "\n",
    "# Add labels and title\n",
    "plt.xlabel('X-axis')\n",
    "plt.ylabel('Y-axis')\n",
    "plt.title('Line Plot Example')\n",
    "\n",
    "# Show the plot\n",
    "plt.show()\n",
    "This code will create a line plot with the specified x and y values, and display it in a window."
   ]
  },
  {
   "cell_type": "markdown",
   "id": "a025d981-e3cd-4697-8ca1-c3ec2823c4f2",
   "metadata": {},
   "source": [
    "Q2: What is a scatter plot? Use the following code to generate data for x and y. Using this generated data\n",
    "plot a scatter plot."
   ]
  },
  {
   "cell_type": "code",
   "execution_count": 2,
   "id": "ff8fbc4f-6dca-4121-beb4-2e4dc44774e5",
   "metadata": {},
   "outputs": [
    {
     "ename": "SyntaxError",
     "evalue": "unterminated string literal (detected at line 21) (4226425815.py, line 21)",
     "output_type": "error",
     "traceback": [
      "\u001b[0;36m  Cell \u001b[0;32mIn[2], line 21\u001b[0;36m\u001b[0m\n\u001b[0;31m    In this code, we first import the necessary libraries: numpy and matplotlib.pyplot. We then generate data for x and y using numpy's random.rand function, which generates random numbers in the range [0, 1). We set the seed to 0 to ensure reproducibility.\u001b[0m\n\u001b[0m                                                                                                                                     ^\u001b[0m\n\u001b[0;31mSyntaxError\u001b[0m\u001b[0;31m:\u001b[0m unterminated string literal (detected at line 21)\n"
     ]
    }
   ],
   "source": [
    "Here is a code snippet that generates data for x and y, and then plots a scatter plot using matplotlib:\n",
    "\n",
    "python\n",
    "Download\n",
    "Copy code\n",
    "import numpy as np\n",
    "import matplotlib.pyplot as plt\n",
    "\n",
    "# Generate data for x and y\n",
    "np.random.seed(0)\n",
    "n = 100\n",
    "x = np.random.rand(n)\n",
    "y = 2 + 3 * x + np.random.randn(n)\n",
    "\n",
    "# Plot the scatter plot\n",
    "plt.scatter(x, y)\n",
    "plt.xlabel('x')\n",
    "plt.ylabel('y')\n",
    "plt.title('Scatter Plot Example')\n",
    "plt.show()\n",
    "In this code, we first import the necessary libraries: numpy and matplotlib.pyplot. We then generate data for x and y using numpy's random.rand function, which generates random numbers in the range [0, 1). We set the seed to 0 to ensure reproducibility.\n",
    "\n",
    "We then define a function y = 2 + 3 * x + np.random.randn(n) to generate y values based on x values. The function represents a line with a slope of 3 and an intercept of 2, and we add some random noise to the y values using np.random.randn(n).\n",
    "\n",
    "Finally, we use matplotlib.pyplot's scatter function to plot the scatter plot, and add labels and a title to the plot. The show function is then used to display the plot.\n",
    "\n",
    "The resulting scatter plot will show the relationship between x and y values, with each point representing a pair of x and y values."
   ]
  },
  {
   "cell_type": "markdown",
   "id": "3e3672e1-9d06-4edd-bba1-3af0770d325a",
   "metadata": {},
   "source": [
    "Q3: Why is the subplot() function used? Draw four line plots using the subplot() function.\n",
    "Use the following data:\n",
    "import numpy as np\n",
    "For line 1: x = np.array([0, 1, 2, 3, 4, 5]) and y = np.array([0, 100, 200, 300, 400, 500])\n",
    "For line 2: x = np.array([0, 1, 2, 3, 4, 5]) and y = np.array([50, 20, 40, 20, 60, 70])\n",
    "For line 3: x = np.array([0, 1, 2, 3, 4, 5]) and y = np.array([10, 20, 30, 40, 50, 60])\n",
    "For line 4: x = np.array([0, 1, 2, 3, 4, 5]) and y = np.array([200, 350, 250, 550, 450, 150])"
   ]
  },
  {
   "cell_type": "code",
   "execution_count": null,
   "id": "54c63a8e-f089-4903-96ed-13b9a8e5d4cd",
   "metadata": {},
   "outputs": [],
   "source": [
    "The subplot() function is used to create a grid of subplots within a single figure. It allows us to create multiple plots within a single figure, which can be useful for comparing different data sets or visualizing different aspects of the same data.\n",
    "\n",
    "Here is an example code that uses the subplot() function to create four line plots:\n",
    "\n",
    "python\n",
    "Download\n",
    "Copy code\n",
    "import numpy as np\n",
    "import matplotlib.pyplot as plt\n",
    "\n",
    "# Generate data for the four lines\n",
    "x = np.array([0, 1, 2, 3, 4, 5])\n",
    "y1 = np.array([0, 100, 200, 300, 400, 500])\n",
    "y2 = np.array([50, 20, 40, 20, 60, 70])\n",
    "y3 = np.array([10, 20, 30, 40, 50, 60])\n",
    "y4 = np.array([200, 350, 250, 550, 450, 150])\n",
    "\n",
    "# Create a figure with 2 rows and 2 columns of subplots\n",
    "fig, axs = plt.subplots(2, 2)\n",
    "\n",
    "# Plot the first line on the first subplot\n",
    "axs[0, 0].plot(x, y1)\n",
    "axs[0, 0].set_title('Line 1')\n",
    "\n",
    "# Plot the second line on the second subplot\n",
    "axs[0, 1].plot(x, y2)\n",
    "axs[0, 1].set_title('Line 2')\n",
    "\n",
    "# Plot the third line on the third subplot\n",
    "axs[1, 0].plot(x, y3)\n",
    "axs[1, 0].set_title('Line 3')\n",
    "\n",
    "# Plot the fourth line on the fourth subplot\n",
    "axs[1, 1].plot(x, y4)\n",
    "axs[1, 1].set_title('Line 4')\n",
    "\n",
    "# Show the plot\n",
    "plt.show()\n",
    "In this code, we first generate data for the four lines using numpy arrays. We then create a figure with 2 rows and 2 columns of subplots using the subplots() function. This function returns a figure object and an array of axes objects, which we store in the fig and axs variables, respectively.\n",
    "\n",
    "We then plot each line on a separate subplot using the plot() function and the set_title() function to add a title to each subplot. Finally, we use the show() function to display the plot.\n",
    "\n",
    "The resulting plot will show four line plots, with two plots in each row and two plots in each column. The subplot() function allows us to easily compare the four lines and visualize their differences."
   ]
  },
  {
   "cell_type": "code",
   "execution_count": null,
   "id": "7ad11f77-ee9d-4230-a8a7-35f79723d02c",
   "metadata": {},
   "outputs": [],
   "source": [
    "Q.4 "
   ]
  }
 ],
 "metadata": {
  "kernelspec": {
   "display_name": "Python 3 (ipykernel)",
   "language": "python",
   "name": "python3"
  },
  "language_info": {
   "codemirror_mode": {
    "name": "ipython",
    "version": 3
   },
   "file_extension": ".py",
   "mimetype": "text/x-python",
   "name": "python",
   "nbconvert_exporter": "python",
   "pygments_lexer": "ipython3",
   "version": "3.10.8"
  }
 },
 "nbformat": 4,
 "nbformat_minor": 5
}
