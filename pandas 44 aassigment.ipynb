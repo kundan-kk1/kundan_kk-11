{
 "cells": [
  {
   "cell_type": "code",
   "execution_count": null,
   "id": "bf3455fe-fd29-4d8e-8c42-e49ceb18f26d",
   "metadata": {},
   "outputs": [
    {
     "data": {
      "text/html": [
       "<div>\n",
       "<style scoped>\n",
       "    .dataframe tbody tr th:only-of-type {\n",
       "        vertical-align: middle;\n",
       "    }\n",
       "\n",
       "    .dataframe tbody tr th {\n",
       "        vertical-align: top;\n",
       "    }\n",
       "\n",
       "    .dataframe thead th {\n",
       "        text-align: right;\n",
       "    }\n",
       "</style>\n",
       "<table border=\"1\" class=\"dataframe\">\n",
       "  <thead>\n",
       "    <tr style=\"text-align: right;\">\n",
       "      <th></th>\n",
       "      <th>course_name</th>\n",
       "      <th>duration</th>\n",
       "    </tr>\n",
       "  </thead>\n",
       "  <tbody>\n",
       "    <tr>\n",
       "      <th>0</th>\n",
       "      <td>Data Science</td>\n",
       "      <td>2</td>\n",
       "    </tr>\n",
       "    <tr>\n",
       "      <th>1</th>\n",
       "      <td>Machine Learning</td>\n",
       "      <td>3</td>\n",
       "    </tr>\n",
       "    <tr>\n",
       "      <th>2</th>\n",
       "      <td>Big Data</td>\n",
       "      <td>6</td>\n",
       "    </tr>\n",
       "    <tr>\n",
       "      <th>3</th>\n",
       "      <td>Data Engineer</td>\n",
       "      <td>4</td>\n",
       "    </tr>\n",
       "  </tbody>\n",
       "</table>\n",
       "</div>"
      ],
      "text/plain": [
       "        course_name  duration\n",
       "0      Data Science         2\n",
       "1  Machine Learning         3\n",
       "2          Big Data         6\n",
       "3     Data Engineer         4"
      ]
     },
     "execution_count": 12,
     "metadata": {},
     "output_type": "execute_result"
    }
   ],
   "source": [
    "Q.1 ans:\n",
    "\n",
    "import pandas as pd\n",
    "course_name = ['Data Science', 'Machine Learning', 'Big Data', 'Data Engineer']\n",
    "duration = [2,3,6,4]\n",
    "df = pd.DataFrame(data = {'course_name' : course_name, 'duration' : duration})\n",
    "\n",
    "df"
   ]
  },
  {
   "cell_type": "code",
   "execution_count": null,
   "id": "373a5da1-34f6-491d-831d-25cd036ecae8",
   "metadata": {},
   "outputs": [],
   "source": []
  },
  {
   "cell_type": "code",
   "execution_count": 18,
   "id": "9a3188bd-769c-46eb-be2c-895f1e43a0b0",
   "metadata": {},
   "outputs": [],
   "source": [
    "Q.1 ans:\n",
    "\n",
    "df1=pd.DataFrame([1,2,3,4],[5,6,7,8])"
   ]
  },
  {
   "cell_type": "code",
   "execution_count": 25,
   "id": "5d7956fd-500b-4ae4-a151-000b2028bba9",
   "metadata": {},
   "outputs": [
    {
     "data": {
      "text/plain": [
       "5    1\n",
       "6    2\n",
       "7    3\n",
       "8    4\n",
       "Name: 0, dtype: int64"
      ]
     },
     "execution_count": 25,
     "metadata": {},
     "output_type": "execute_result"
    }
   ],
   "source": [
    "df1[0]\n",
    "\n"
   ]
  },
  {
   "cell_type": "code",
   "execution_count": null,
   "id": "2a13fbab-75f6-4073-927c-35743acbdef3",
   "metadata": {},
   "outputs": [],
   "source": []
  },
  {
   "cell_type": "code",
   "execution_count": null,
   "id": "f04ad223-5ff9-40ab-990f-3b0470f612c5",
   "metadata": {},
   "outputs": [],
   "source": [
    "Q.2 ans:\n",
    "    loc:\n",
    "The loc method is primarily label-based. It is used to select rows and columns based on their ,\n",
    "labels or indices, rather than their integer positions. It takes two arguments: the row label(s) and \n",
    "the column label(s). You can use slices, lists, boolean arrays, or a combination of these to select\n",
    "rows and columns\n",
    "\n",
    "iloc:\n",
    "The iloc method is integer-location based. \n",
    "It is used to select rows and columns using integer indices. Similar to loc, \n",
    "it takes two arguments: the row index(s) and the column index(s). You can use slices, integer lists, \n",
    "and boolean arrays to select rows and columns. "
   ]
  },
  {
   "cell_type": "code",
   "execution_count": null,
   "id": "75407b55-2664-4d90-b46f-004163aaae2f",
   "metadata": {},
   "outputs": [],
   "source": []
  },
  {
   "cell_type": "code",
   "execution_count": null,
   "id": "6ef9ffa8-9f6a-43d7-8bd1-c0bd5c2f68c6",
   "metadata": {},
   "outputs": [],
   "source": [
    "Q.3 ans:\n",
    "    \n",
    "    import pandas as pd\n",
    "\n",
    "\n",
    "data = {'A': [1, 2, 3, 4], 'B': [5, 6, 7, 8]}\n",
    "df = pd.DataFrame(data)\n",
    "\n",
    "\n",
    "reindex_order = [3, 0, 1, 2]\n",
    "\n",
    "\n",
    "new_df = df.reindex(index=reindex_order)\n",
    "\n",
    "\n",
    "loc_result = new_df.loc[2]      \n",
    "iloc_result = new_df.iloc[2]    \n",
    "\n",
    "print(\"Output for new_df.loc[2]:\")\n",
    "print(loc_result)\n",
    "print(\"\\nOutput for new_df.iloc[2]:\")\n",
    "print(iloc_result)\n"
   ]
  },
  {
   "cell_type": "code",
   "execution_count": 31,
   "id": "17209938-efbf-4751-82eb-3010972bc41f",
   "metadata": {},
   "outputs": [],
   "source": [
    "import pandas as pd\n",
    "import numpy as np\n",
    "columns = ['column_1', 'column_2', 'column_3', 'column_4', 'column_5', 'column_6']\n",
    "indices = [1,2,3,4,5,6]\n",
    "\n",
    "df1 = pd.DataFrame(np.random.rand(6,6), columns = columns, index = indices)"
   ]
  },
  {
   "cell_type": "code",
   "execution_count": 32,
   "id": "f95ef8da-1b04-4347-ad77-c65d863b5849",
   "metadata": {},
   "outputs": [
    {
     "data": {
      "text/html": [
       "<div>\n",
       "<style scoped>\n",
       "    .dataframe tbody tr th:only-of-type {\n",
       "        vertical-align: middle;\n",
       "    }\n",
       "\n",
       "    .dataframe tbody tr th {\n",
       "        vertical-align: top;\n",
       "    }\n",
       "\n",
       "    .dataframe thead th {\n",
       "        text-align: right;\n",
       "    }\n",
       "</style>\n",
       "<table border=\"1\" class=\"dataframe\">\n",
       "  <thead>\n",
       "    <tr style=\"text-align: right;\">\n",
       "      <th></th>\n",
       "      <th>column_1</th>\n",
       "      <th>column_2</th>\n",
       "      <th>column_3</th>\n",
       "      <th>column_4</th>\n",
       "      <th>column_5</th>\n",
       "      <th>column_6</th>\n",
       "    </tr>\n",
       "  </thead>\n",
       "  <tbody>\n",
       "    <tr>\n",
       "      <th>1</th>\n",
       "      <td>0.345032</td>\n",
       "      <td>0.300716</td>\n",
       "      <td>0.794027</td>\n",
       "      <td>0.803544</td>\n",
       "      <td>0.228502</td>\n",
       "      <td>0.207305</td>\n",
       "    </tr>\n",
       "    <tr>\n",
       "      <th>2</th>\n",
       "      <td>0.285229</td>\n",
       "      <td>0.397064</td>\n",
       "      <td>0.556012</td>\n",
       "      <td>0.718119</td>\n",
       "      <td>0.426971</td>\n",
       "      <td>0.676443</td>\n",
       "    </tr>\n",
       "    <tr>\n",
       "      <th>3</th>\n",
       "      <td>0.260041</td>\n",
       "      <td>0.207180</td>\n",
       "      <td>0.564667</td>\n",
       "      <td>0.275794</td>\n",
       "      <td>0.664812</td>\n",
       "      <td>0.179756</td>\n",
       "    </tr>\n",
       "    <tr>\n",
       "      <th>4</th>\n",
       "      <td>0.589510</td>\n",
       "      <td>0.935538</td>\n",
       "      <td>0.673250</td>\n",
       "      <td>0.070945</td>\n",
       "      <td>0.645325</td>\n",
       "      <td>0.029517</td>\n",
       "    </tr>\n",
       "    <tr>\n",
       "      <th>5</th>\n",
       "      <td>0.423351</td>\n",
       "      <td>0.774969</td>\n",
       "      <td>0.490341</td>\n",
       "      <td>0.214421</td>\n",
       "      <td>0.282852</td>\n",
       "      <td>0.298707</td>\n",
       "    </tr>\n",
       "    <tr>\n",
       "      <th>6</th>\n",
       "      <td>0.534714</td>\n",
       "      <td>0.465463</td>\n",
       "      <td>0.116214</td>\n",
       "      <td>0.697098</td>\n",
       "      <td>0.650894</td>\n",
       "      <td>0.827600</td>\n",
       "    </tr>\n",
       "  </tbody>\n",
       "</table>\n",
       "</div>"
      ],
      "text/plain": [
       "   column_1  column_2  column_3  column_4  column_5  column_6\n",
       "1  0.345032  0.300716  0.794027  0.803544  0.228502  0.207305\n",
       "2  0.285229  0.397064  0.556012  0.718119  0.426971  0.676443\n",
       "3  0.260041  0.207180  0.564667  0.275794  0.664812  0.179756\n",
       "4  0.589510  0.935538  0.673250  0.070945  0.645325  0.029517\n",
       "5  0.423351  0.774969  0.490341  0.214421  0.282852  0.298707\n",
       "6  0.534714  0.465463  0.116214  0.697098  0.650894  0.827600"
      ]
     },
     "execution_count": 32,
     "metadata": {},
     "output_type": "execute_result"
    }
   ],
   "source": [
    "df1\n",
    "    \n",
    "    "
   ]
  },
  {
   "cell_type": "code",
   "execution_count": 33,
   "id": "38b52360-7bea-4bf3-b799-3681dfadfa43",
   "metadata": {},
   "outputs": [
    {
     "data": {
      "text/plain": [
       "column_1    0.406313\n",
       "column_2    0.513488\n",
       "column_3    0.532419\n",
       "column_4    0.463320\n",
       "column_5    0.483226\n",
       "column_6    0.369888\n",
       "dtype: float64"
      ]
     },
     "execution_count": 33,
     "metadata": {},
     "output_type": "execute_result"
    }
   ],
   "source": [
    "Q.4 ans\n",
    "\n",
    "df1.mean()"
   ]
  },
  {
   "cell_type": "code",
   "execution_count": null,
   "id": "0a68426d-aae0-4ae2-85b7-f034c9257611",
   "metadata": {},
   "outputs": [],
   "source": [
    "\n",
    "  "
   ]
  },
  {
   "cell_type": "code",
   "execution_count": null,
   "id": "f921b1ab-d1e9-4cdb-8ef0-162353dad3c4",
   "metadata": {},
   "outputs": [],
   "source": [
    "Q.5 ans\n",
    "\n",
    "\n",
    "\n"
   ]
  }
 ],
 "metadata": {
  "kernelspec": {
   "display_name": "Python 3 (ipykernel)",
   "language": "python",
   "name": "python3"
  },
  "language_info": {
   "codemirror_mode": {
    "name": "ipython",
    "version": 3
   },
   "file_extension": ".py",
   "mimetype": "text/x-python",
   "name": "python",
   "nbconvert_exporter": "python",
   "pygments_lexer": "ipython3",
   "version": "3.10.8"
  }
 },
 "nbformat": 4,
 "nbformat_minor": 5
}
