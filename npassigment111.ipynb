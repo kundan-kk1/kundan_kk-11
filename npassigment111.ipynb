{
 "cells": [
  {
   "cell_type": "code",
   "execution_count": 2,
   "id": "99f1f16e-5158-40a5-8c1c-c2ef88f7813e",
   "metadata": {},
   "outputs": [],
   "source": [
    "Q.1 ans\n",
    "\n",
    "import numpy as np\n",
    "list_ = [ 1,2,3,4,5]\n",
    "array_list = np.array(object = list_)"
   ]
  },
  {
   "cell_type": "code",
   "execution_count": 6,
   "id": "50c0876b-6a71-4196-a549-2ac438f15925",
   "metadata": {},
   "outputs": [
    {
     "data": {
      "text/plain": [
       "dtype('int64')"
      ]
     },
     "execution_count": 6,
     "metadata": {},
     "output_type": "execute_result"
    }
   ],
   "source": [
    "array_list.dtype"
   ]
  },
  {
   "cell_type": "code",
   "execution_count": 9,
   "id": "cd0fd139-65a9-4a6e-9cfa-47909f821b83",
   "metadata": {},
   "outputs": [
    {
     "name": "stdout",
     "output_type": "stream",
     "text": [
      "Data type of list_: <class 'list'>\n",
      "Data type of array_list: <class 'list'>\n"
     ]
    }
   ],
   "source": [
    "Q.2 ans\n",
    "    \n",
    "\n",
    "list_ = [1, 2, 3, 4, 5]\n",
    "array_list = [1, 2, 3, 4, 5]\n",
    "\n",
    "\n",
    "print(\"Data type of list_:\", type(list_))\n",
    "print(\"Data type of array_list:\", type(array_list))\n"
   ]
  },
  {
   "cell_type": "code",
   "execution_count": null,
   "id": "8db89b91-9626-4029-b879-3a87d14141f4",
   "metadata": {},
   "outputs": [],
   "source": []
  },
  {
   "cell_type": "code",
   "execution_count": null,
   "id": "cd80a6e7-4c0b-4dc8-a895-f466740fa0b5",
   "metadata": {},
   "outputs": [],
   "source": [
    "Q.3 ans:\n",
    "    \n",
    "    # Example variables\n",
    "list_ = [1, 2, 3, 4, 5]\n",
    "array_list = [1, 2, 3, 4, 5]\n",
    "\n",
    "# Print data type of each element in list_\n",
    "print(\"Data types of elements in list_:\")\n",
    "for item in list_:\n",
    "    print(type(item))\n",
    "\n",
    "# Print data type of each element in array_list\n",
    "print(\"\\nData types of elements in array_list:\")\n",
    "for item in array_list:\n",
    "    print(type(item))\n"
   ]
  },
  {
   "cell_type": "code",
   "execution_count": null,
   "id": "976d99b3-1ae0-46f3-bba1-34d527dad942",
   "metadata": {},
   "outputs": [],
   "source": []
  },
  {
   "cell_type": "code",
   "execution_count": null,
   "id": "59d8f5cd-516e-442a-b5b0-452d9ab96177",
   "metadata": {},
   "outputs": [],
   "source": [
    "Q.4 ans:\n",
    "    \n",
    "    import numpy as np\n",
    "\n",
    "# Example NumPy array\n",
    "num_array = np.array([[1, 2, 3],\n",
    "                      [4, 5, 6],\n",
    "                      [7, 8, 9]])\n",
    "\n",
    "# (i) Find the shape of the array\n",
    "shape = num_array.shape\n",
    "print(\"Shape of num_array:\", shape)\n",
    "\n",
    "# (ii) Find the size of the array\n",
    "size = num_array.size\n",
    "print(\"Size of num_array:\", size)\n"
   ]
  },
  {
   "cell_type": "code",
   "execution_count": null,
   "id": "16b82e5f-92f0-46b1-8567-8e069920db90",
   "metadata": {},
   "outputs": [],
   "source": []
  }
 ],
 "metadata": {
  "kernelspec": {
   "display_name": "Python 3 (ipykernel)",
   "language": "python",
   "name": "python3"
  },
  "language_info": {
   "codemirror_mode": {
    "name": "ipython",
    "version": 3
   },
   "file_extension": ".py",
   "mimetype": "text/x-python",
   "name": "python",
   "nbconvert_exporter": "python",
   "pygments_lexer": "ipython3",
   "version": "3.10.8"
  }
 },
 "nbformat": 4,
 "nbformat_minor": 5
}
