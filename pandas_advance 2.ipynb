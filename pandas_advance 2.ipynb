{
 "cells": [
  {
   "cell_type": "code",
   "execution_count": null,
   "id": "541d3c9b-a960-4f40-b256-5a193a01acf0",
   "metadata": {},
   "outputs": [],
   "source": [
    "Q1. List any five functions of the pandas library with execution.\n",
    "\n",
    "ANS-   read_csv(): This function is used to read data from a CSV file into a pandas DataFrame.\n",
    "\n",
    "\n",
    "\n",
    "import pandas as pd\n",
    "data = pd.read_csv('data.csv')\n",
    "print(data.head())\n",
    "head(): This function is used to display the first few rows of a DataFrame. By default, it shows the first 5 rows.\n",
    "\n",
    "\n",
    "import pandas as pd\n",
    "data = pd.read_csv('data.csv')\n",
    "print(data.head())\n",
    "info(): This function provides a concise summary of a DataFrame, including the data types of columns and the number of non-null values.\n",
    "\n",
    "\n",
    "import pandas as pd\n",
    "data = pd.read_csv('data.csv')\n",
    "print(data.info())\n",
    "groupby(): This function is used to group data in a DataFrame based on one or more columns, allowing aggregation and analysis on those groups.\n",
    "\n",
    "\n",
    "import pandas as pd\n",
    "data = pd.read_csv('data.csv')\n",
    "grouped = data.groupby('Category')['Sales'].sum()\n",
    "print(grouped)\n",
    "plot(): This function is used to create different types of plots directly from a DataFrame. It provides a convenient way to visualize data.\n",
    "\n"
   ]
  },
  {
   "cell_type": "code",
   "execution_count": null,
   "id": "3e2a6531-deba-4dc8-89c2-8cbcc889c5d7",
   "metadata": {},
   "outputs": [],
   "source": [
    "Q.2 ans:-\n",
    "import pandas as pd\n",
    "\n",
    " data = {'A': [10, 20, 30],\n",
    "        'B': [5, 15, 25],\n",
    "        'C': [100, 200, 300]}\n",
    "\n",
    "df = pd.DataFrame(data,index=[1,2*len)\n",
    "\n",
    "new_df = reindex_with_custom_increment(df)\n",
    "\n",
    "print(new_df\n",
    "\n"
   ]
  },
  {
   "cell_type": "code",
   "execution_count": null,
   "id": "bcdf0747-d351-4a11-ba36-307c810a619b",
   "metadata": {},
   "outputs": [],
   "source": [
    "Q.3 ans\n",
    "\n",
    "import pandas as pd\n",
    "\n",
    "def calculate_sum_of_first_three(df):\n",
    "    # Extract the 'Values' column\n",
    "    values_column = df['Values']\n",
    "    \n",
    "    # Calculate the sum of the first three values\n",
    "    sum_first_three = values_column.head(3).sum()\n",
    "    \n",
    "    # Print the sum to the console\n",
    "    print(\"Sum of the first three values:\", sum_first_three)\n",
    "\n",
    "# Example DataFrame\n",
    "data = {'Values': [10, 20, 30, 40, 50]}\n",
    "\n",
    "df = pd.DataFrame(data)\n",
    "\n",
    "# Call the function to calculate and print the sum\n",
    "calculate_sum_of_first_three(df)\n"
   ]
  },
  {
   "cell_type": "code",
   "execution_count": null,
   "id": "074f8d82-4912-439b-a0d5-b75ae2e7a22f",
   "metadata": {},
   "outputs": [],
   "source": [
    "Q.4 ans:\n",
    "    \n",
    "    import pandas as pd\n",
    "\n",
    "def add_word_count_column(df):\n",
    "    # Split each row's text into words and count the number of words\n",
    "    df['Word_Count'] = df['Text'].apply(lambda x: len(x.split()))\n",
    "    \n",
    "    return df\n",
    "\n",
    "# Example DataFrame\n",
    "data = {'Text': [\"This is a sample text.\",\n",
    "                 \"Hello, how are you?\",\n",
    "                 \"Python programming is fun!\"]}\n",
    "\n",
    "df = pd.DataFrame(data)\n",
    "\n",
    "# Call the function to add the 'Word_Count' column\n",
    "df_with_word_count = add_word_count_column(df)\n",
    "\n",
    "print(df_with_word_count)\n"
   ]
  },
  {
   "cell_type": "code",
   "execution_count": null,
   "id": "63b957a9-eaa6-4c50-ab14-8240f19826ca",
   "metadata": {},
   "outputs": [],
   "source": [
    "Q.5 ans:\n",
    "    \n",
    "    DataFrame.size: This attribute returns the total number of elements in the DataFrame. It's the product of the number of rows and the number of columns. It gives you the total count of cells in the DataFrame.\n",
    "    \n",
    "    \n",
    "    \n",
    "    DataFrame.shape: This attribute returns a tuple representing the dimensions of the DataFrame. The tuple consists of two values: the number of rows and the number of columns. It provides the structure of the DataFrame."
   ]
  },
  {
   "cell_type": "code",
   "execution_count": null,
   "id": "8666a39c-9e2a-4f5e-b27e-dbc178c3f7d9",
   "metadata": {},
   "outputs": [],
   "source": [
    "Q.6 ans:\n",
    "    \n",
    "    import pandas as pd\n",
    "\n",
    "# Reading an Excel file into a DataFrame\n",
    "data = pd.read_excel('data.xlsx')\n",
    "\n",
    "# Displaying the DataFrame\n",
    "print(data)\n"
   ]
  },
  {
   "cell_type": "code",
   "execution_count": null,
   "id": "cdf97b15-adc4-4780-9b2e-8a91cb2b6671",
   "metadata": {},
   "outputs": [],
   "source": [
    "Q.7 ans:\n",
    "    \n",
    "    A B C\n",
    "0 3 5 1\n",
    "1 8 2 7\n",
    "2 6 9 4\n",
    "3 2 3 5\n",
    "4 9 1 2\n",
    "\n",
    "\n"
   ]
  },
  {
   "cell_type": "code",
   "execution_count": 12,
   "id": "0d755d3b-ddbf-4b92-a5f2-4a56a18dbf01",
   "metadata": {},
   "outputs": [
    {
     "data": {
      "text/plain": [
       "0    False\n",
       "1     True\n",
       "2     True\n",
       "3    False\n",
       "4     True\n",
       "Name: a, dtype: bool"
      ]
     },
     "execution_count": 12,
     "metadata": {},
     "output_type": "execute_result"
    }
   ],
   "source": [
    "import pandas as pd\n",
    "\n",
    "df=pd.DataFrame({'a':[3,8,6,2,9],\n",
    "                 'b':[5,2,9,3,1],\n",
    "                 'c':[1,7,4,5,2]})\n",
    "df1=df['a']>5\n",
    "df1"
   ]
  },
  {
   "cell_type": "code",
   "execution_count": 15,
   "id": "70e70b44-5e01-4238-8d9d-70a6a6f66726",
   "metadata": {},
   "outputs": [
    {
     "data": {
      "text/plain": [
       "0    True\n",
       "1    True\n",
       "2    True\n",
       "3    True\n",
       "4    True\n",
       "Name: b, dtype: bool"
      ]
     },
     "execution_count": 15,
     "metadata": {},
     "output_type": "execute_result"
    }
   ],
   "source": [
    "df2=df['b']<10\n",
    "df2"
   ]
  },
  {
   "cell_type": "code",
   "execution_count": null,
   "id": "e59f2c5d-827d-471a-b8f5-802dfdd81d18",
   "metadata": {},
   "outputs": [],
   "source": []
  },
  {
   "cell_type": "code",
   "execution_count": null,
   "id": "28470f86-1f47-48b1-8fb4-d8115cb7b06c",
   "metadata": {},
   "outputs": [],
   "source": []
  }
 ],
 "metadata": {
  "kernelspec": {
   "display_name": "Python 3 (ipykernel)",
   "language": "python",
   "name": "python3"
  },
  "language_info": {
   "codemirror_mode": {
    "name": "ipython",
    "version": 3
   },
   "file_extension": ".py",
   "mimetype": "text/x-python",
   "name": "python",
   "nbconvert_exporter": "python",
   "pygments_lexer": "ipython3",
   "version": "3.10.8"
  }
 },
 "nbformat": 4,
 "nbformat_minor": 5
}
