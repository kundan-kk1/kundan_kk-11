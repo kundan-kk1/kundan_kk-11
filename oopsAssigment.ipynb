{
 "cells": [
  {
   "cell_type": "code",
   "execution_count": null,
   "id": "d28dc755-41bf-4aa5-98e9-2df11593dcb0",
   "metadata": {},
   "outputs": [],
   "source": [
    "Q.1 ans\n",
    "    Abstraction is a process of hiding the implementation details of an object from the user.\n",
    "    This allows the user to focus on the functionality of the object without having to worry about \n",
    "    how it works.\n",
    "For example, a car is an abstract object. \n",
    "The user of a car does not need to know how the engine works or how the brakes are made. \n",
    "They only need to know how to operate the car.\n",
    "Abstraction is a key concept in object-oriented programming.\n",
    "It allows developers to create complex systems that are easy to use and maintain.\n",
    "Here is a more detailed example of abstraction in OOP:\n",
    "\n",
    "class Car:\n",
    "    def __init__(self, make, model, year):\n",
    "        self.make = make\n",
    "        self.model = model\n",
    "        self.year = year\n",
    "    def drive(self):\n",
    "        print(\"The car is driving\")\n",
    "    def stop(self):\n",
    "        print(\"The car is stopping\")\n",
    "​"
   ]
  },
  {
   "cell_type": "code",
   "execution_count": null,
   "id": "90ba5c84-31a4-4f1f-97e2-64dafb5ea0bc",
   "metadata": {},
   "outputs": [],
   "source": [
    "Q.2 ans\n",
    "\n",
    "  Abstraction and encapsulation are two important concepts in object-oriented programming. \n",
    "    Abstraction is the process of hiding the implementation details of an object from the user. \n",
    "    Encapsulation is the process of grouping together data and methods into a single unit.\n",
    "Here is an example of abstraction in OOP:\n",
    "\n",
    "class Car:\n",
    "    def __init__(self, make, model, year):\n",
    "        self.make = make\n",
    "        self.model = model\n",
    "        self.year = year\n",
    "    def drive(self):\n",
    "        print(\"The car is driving\")\n",
    "    def stop(self):\n",
    "        print(\"The car is stopping\")\n",
    "​\n",
    "\n",
    "The Car class is an abstract class. It defines the properties and methods that all cars have. \n",
    "The user of a car does not need to know how the car works. \n",
    "They only need to know how to use the car's methods.\n",
    "Here is an example of encapsulation in OOP:\n",
    "\n",
    "class Car:\n",
    "    def __init__(self, make, model, year):\n",
    "        self.make = make\n",
    "        self.model = model\n",
    "        self.year = year\n",
    "    def drive(self):\n",
    "        print(\"The car is driving\")\n",
    "    def stop(self):\n",
    "        print(\"The car is stopping\")\n",
    "    @property\n",
    "    def make(self):\n",
    "        return self._make\n",
    "    @make.setter\n",
    "    def make(self, make):\n",
    "        self._make = make\n",
    "​"
   ]
  },
  {
   "cell_type": "code",
   "execution_count": null,
   "id": "e40e503f-f179-4510-b424-18a8b9823201",
   "metadata": {},
   "outputs": [],
   "source": [
    "Q.3ans\n",
    "\n",
    "   The abc module in Python provides a way to define abstract base classes (ABCs).\n",
    "    ABCs are classes that define the interface for a class hierarchy, but do not provide any implementation.\n",
    "    This allows subclasses to implement the interface without having to worry about,\n",
    "    the details of the implementation.\n",
    "The abc module is used to define abstract base classes and to check whether,\n",
    "a class is an ABC or a subclass of an ABC.\n",
    "Here is an example of an abstract base class in Python:\n",
    "\n",
    "class Shape(abc.ABC):\n",
    "    @abc.abstractmethod\n",
    "    def area(self):\n",
    "        \"\"\"Return the area of the shape.\"\"\"\n",
    "        pass\n",
    "    @abc.abstractmethod\n",
    "    def perimeter(self):\n",
    "        \"\"\"Return the perimeter of the shape.\"\"\"\n",
    "        pass\n",
    "​\n",
    "\n"
   ]
  },
  {
   "cell_type": "code",
   "execution_count": null,
   "id": "a76da7d1-41aa-48dd-b693-4621b8401ae8",
   "metadata": {},
   "outputs": [],
   "source": [
    "Q.4 ans\n",
    "\n",
    "  Data abstraction is a process of hiding the implementation details of an object from the user. \n",
    " This allows the user to focus on the functionality of the object without having to worry about how,\n",
    " it works.\n",
    "There are several ways to achieve data abstraction in Python. One way is to use abstract base classes (ABCs).\n",
    "ABCs are classes that define the interface for a class hierarchy, \n",
    "but do not provide any implementation. \n",
    "This allows subclasses to implement the interface without having to worry about the details of the implementation."
   ]
  },
  {
   "cell_type": "code",
   "execution_count": null,
   "id": "badba1f1-87e0-4ee7-84a6-ea452e8fcc7b",
   "metadata": {},
   "outputs": [],
   "source": [
    "Q.5 ans\n",
    "   No, we cannot create an instance of an abstract class. \n",
    "    An abstract class is a class that is not intended to be instantiated.\n",
    "    It is used as a base class for other classes that inherit its methods and properties.\n",
    "Abstract classes are used to define the interface \n",
    "for a class hierarchy. They specify the methods and properties that must be implemented by subclasses. \n",
    "This allows subclasses to be more flexible and adaptable."
   ]
  }
 ],
 "metadata": {
  "kernelspec": {
   "display_name": "Python 3 (ipykernel)",
   "language": "python",
   "name": "python3"
  },
  "language_info": {
   "codemirror_mode": {
    "name": "ipython",
    "version": 3
   },
   "file_extension": ".py",
   "mimetype": "text/x-python",
   "name": "python",
   "nbconvert_exporter": "python",
   "pygments_lexer": "ipython3",
   "version": "3.10.8"
  }
 },
 "nbformat": 4,
 "nbformat_minor": 5
}
