{
 "cells": [
  {
   "cell_type": "markdown",
   "id": "cc774f54-80b3-4398-871c-d082852a5395",
   "metadata": {},
   "source": [
    "Q.1 ANS"
   ]
  },
  {
   "cell_type": "code",
   "execution_count": 11,
   "id": "dd35ca64-6018-409c-bc14-e330f1fb0a02",
   "metadata": {},
   "outputs": [
    {
     "name": "stdout",
     "output_type": "stream",
     "text": [
      "0     4\n",
      "1     8\n",
      "2    15\n",
      "3    16\n",
      "4    23\n",
      "5    42\n",
      "dtype: int64\n"
     ]
    }
   ],
   "source": [
    "import pandas as pd\n",
    "\n",
    "data = [4, 8, 15, 16, 23, 42]\n",
    "series = pd.Series(data)\n",
    "\n",
    "print(series)\n"
   ]
  },
  {
   "cell_type": "markdown",
   "id": "6ed59811-9ecd-4bcb-98cd-d9e58deb9d81",
   "metadata": {},
   "source": [
    "Q.2 ANS"
   ]
  },
  {
   "cell_type": "code",
   "execution_count": 12,
   "id": "d060a35e-ac79-43d4-b030-eb0562746341",
   "metadata": {},
   "outputs": [
    {
     "name": "stdout",
     "output_type": "stream",
     "text": [
      "0     2\n",
      "1     4\n",
      "2     6\n",
      "3     8\n",
      "4    10\n",
      "5    12\n",
      "6    14\n",
      "7    16\n",
      "8    18\n",
      "9    20\n",
      "dtype: int64\n"
     ]
    }
   ],
   "source": [
    "import pandas as pd\n",
    "\n",
    "my_list = [2, 4, 6, 8, 10, 12, 14, 16, 18, 20]\n",
    "series_from_list = pd.Series(my_list)\n",
    "\n",
    "print(series_from_list)\n"
   ]
  },
  {
   "cell_type": "markdown",
   "id": "b6bcdf46-1bb7-4262-af5b-e300c35b34ad",
   "metadata": {},
   "source": [
    "Q.3 ANS"
   ]
  },
  {
   "cell_type": "code",
   "execution_count": 13,
   "id": "257ef974-8164-4768-a2e1-be7d07a27d13",
   "metadata": {},
   "outputs": [
    {
     "name": "stdout",
     "output_type": "stream",
     "text": [
      "     Name  Age  Gender\n",
      "0   Alice   25  Female\n",
      "1     Bob   30    Male\n",
      "2  Claire   27  Female\n"
     ]
    }
   ],
   "source": [
    "import pandas as pd\n",
    "\n",
    "data = {\n",
    "    'Name': ['Alice', 'Bob', 'Claire'],\n",
    "    'Age': [25, 30, 27],\n",
    "    'Gender': ['Female', 'Male', 'Female']\n",
    "}\n",
    "\n",
    "df = pd.DataFrame(data)\n",
    "print(df)\n"
   ]
  },
  {
   "cell_type": "markdown",
   "id": "c3679b14-7cce-4dfd-aa80-9c0d7f4ebe81",
   "metadata": {},
   "source": [
    "Q.4 ANS"
   ]
  },
  {
   "cell_type": "code",
   "execution_count": 15,
   "id": "05c1a707-27d5-4b47-8ae4-39b461f5864d",
   "metadata": {},
   "outputs": [
    {
     "ename": "SyntaxError",
     "evalue": "invalid syntax (3213156966.py, line 1)",
     "output_type": "error",
     "traceback": [
      "\u001b[0;36m  Cell \u001b[0;32mIn[15], line 1\u001b[0;36m\u001b[0m\n\u001b[0;31m    Q4. A DataFrame in Pandas is a two-dimensional labeled data structure with columns that can hold different data types.\u001b[0m\n\u001b[0m          ^\u001b[0m\n\u001b[0;31mSyntaxError\u001b[0m\u001b[0;31m:\u001b[0m invalid syntax\n"
     ]
    }
   ],
   "source": [
    "Q4. A DataFrame in Pandas is a two-dimensional labeled data structure with columns that can hold different data types. \n",
    "It can be thought of as a table or a spreadsheet-like data structure. \n",
    "Each column in a DataFrame is essentially a Pandas Series. \n",
    "The primary difference between a Series and a DataFrame is that a DataFrame can hold multiple columns of data while a Series\n",
    "is a one-dimensional array-like structure.\n",
    "\n",
    "\n",
    "\n",
    "\n",
    "import pandas as pd\n",
    "\n",
    "\n",
    "series_data = pd.Series([10, 20, 30, 40, 50], name='Numbers')\n",
    "\n",
    "# Creating a DataFrame from the Series\n",
    "df_from_series = pd.DataFrame(series_data)\n",
    "\n",
    "print(\"Series:\")\n",
    "print(series_data)\n",
    "print(\"\\nDataFrame:\")\n",
    "print(df_from_series)\n"
   ]
  },
  {
   "cell_type": "code",
   "execution_count": null,
   "id": "dce2a084-baba-40f8-b480-47bc6d58303d",
   "metadata": {},
   "outputs": [],
   "source": []
  }
 ],
 "metadata": {
  "kernelspec": {
   "display_name": "Python 3 (ipykernel)",
   "language": "python",
   "name": "python3"
  },
  "language_info": {
   "codemirror_mode": {
    "name": "ipython",
    "version": 3
   },
   "file_extension": ".py",
   "mimetype": "text/x-python",
   "name": "python",
   "nbconvert_exporter": "python",
   "pygments_lexer": "ipython3",
   "version": "3.10.8"
  }
 },
 "nbformat": 4,
 "nbformat_minor": 5
}
