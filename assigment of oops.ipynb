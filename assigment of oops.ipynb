{
 "cells": [
  {
   "cell_type": "code",
   "execution_count": 8,
   "id": "f9b7d1b2-78ce-41e7-9d2c-6003a1e8f5e6",
   "metadata": {},
   "outputs": [],
   "source": [
    "Q.1 ans\n",
    "\n",
    "class vehicle:\n",
    "    def __init__(self,name_of_vehicle,max_speed,average_of_vehicle):\n",
    "        \n",
    "        self.name_of_vehicle=name_of_vehicle\n",
    "        self.max_speed=max_speed\n",
    "        self.average_of_vehicle=average_of_vehicle"
   ]
  },
  {
   "cell_type": "code",
   "execution_count": 17,
   "id": "31a94503-2c90-40b5-8a7c-f0386164d709",
   "metadata": {},
   "outputs": [],
   "source": [
    "obj_vehicle=vehicle(\"toyata\",200,\"12kmpl\")"
   ]
  },
  {
   "cell_type": "code",
   "execution_count": 12,
   "id": "82f80afa-deef-453a-b4d1-d7abd77e7e63",
   "metadata": {},
   "outputs": [
    {
     "data": {
      "text/plain": [
       "'toyata'"
      ]
     },
     "execution_count": 12,
     "metadata": {},
     "output_type": "execute_result"
    }
   ],
   "source": [
    "obj_vehicle.name_of_vehicle"
   ]
  },
  {
   "cell_type": "code",
   "execution_count": 14,
   "id": "7a139825-7490-46cd-a619-7f25b2f274c3",
   "metadata": {},
   "outputs": [
    {
     "data": {
      "text/plain": [
       "200"
      ]
     },
     "execution_count": 14,
     "metadata": {},
     "output_type": "execute_result"
    }
   ],
   "source": [
    "obj_vehicle.max_speed"
   ]
  },
  {
   "cell_type": "code",
   "execution_count": 19,
   "id": "0b9b9480-0252-4d60-ae59-d9c992707f93",
   "metadata": {},
   "outputs": [
    {
     "data": {
      "text/plain": [
       "'12kmpl'"
      ]
     },
     "execution_count": 19,
     "metadata": {},
     "output_type": "execute_result"
    }
   ],
   "source": [
    "obj_vehicle.average_of_vehicle"
   ]
  },
  {
   "cell_type": "code",
   "execution_count": null,
   "id": "97414db5-f1d5-4c68-847e-5b872576ec0f",
   "metadata": {},
   "outputs": [],
   "source": []
  },
  {
   "cell_type": "code",
   "execution_count": 20,
   "id": "8f06c113-d55a-4424-aa91-89ef62124e39",
   "metadata": {},
   "outputs": [
    {
     "ename": "SyntaxError",
     "evalue": "invalid syntax (3935299380.py, line 1)",
     "output_type": "error",
     "traceback": [
      "\u001b[0;36m  Cell \u001b[0;32mIn[20], line 1\u001b[0;36m\u001b[0m\n\u001b[0;31m    Q.2 ans\u001b[0m\n\u001b[0m     ^\u001b[0m\n\u001b[0;31mSyntaxError\u001b[0m\u001b[0;31m:\u001b[0m invalid syntax\n"
     ]
    }
   ],
   "source": [
    "\n",
    "\n",
    "Q.2 ans\n",
    "\n",
    "\n",
    "\n",
    "    class Vehicle:\n",
    "    def __init__(self, name, max_speed):\n",
    "        self.name = name\n",
    "        self.max_speed = max_speed\n",
    "class Car(Vehicle):\n",
    "    def seating_capacity(self, capacity):\n",
    "        return f\"The car's name is {self.name} and it has a seating capacity of {capacity}.\""
   ]
  },
  {
   "cell_type": "code",
   "execution_count": null,
   "id": "1edaef9c-3c65-4de9-9899-ffb4bde769d6",
   "metadata": {},
   "outputs": [],
   "source": []
  },
  {
   "cell_type": "code",
   "execution_count": null,
   "id": "528fec47-10c4-4797-a4fa-0210472844df",
   "metadata": {},
   "outputs": [],
   "source": [
    "Q.3 ans\n",
    "\n",
    "\n",
    "Multiple inheritance is a feature of object-oriented programming (OOP) that allows a class to inherit from,\n",
    "more than one parent class. This can be useful when a class needs to inherit the properties and methods of multiple,\n",
    "different classes.\n",
    "For example, a class that represents a car could inherit from a class that represents \n",
    "a vehicle and a class that represents a transportation device. \n",
    "This would allow the car class to have the properties and methods of both a vehicle and a transportation device.\n",
    "Here is an example of multiple inheritance in Python:\n",
    "\n",
    "    \n",
    "class Vehicle:\n",
    "    def __init__(self, make, model, year):\n",
    "        self.make = make\n",
    "        self.model = model\n",
    "        self.year = year\n",
    "    def drive(self):\n",
    "        print(\"The vehicle is driving.\")\n",
    "class TransportationDevice:\n",
    "    def __init__(self, max_speed):\n",
    "        self.max_speed = max_speed\n",
    "    def accelerate(self):\n",
    "        print(\"The transportation device is accelerating.\")\n",
    "class Car(Vehicle, TransportationDevice):\n",
    "    def __init__(self, make, model, year, max_speed):\n",
    "        super().__init__(make, model, year)\n",
    "        self.max_speed = max_speed\n",
    "    def honk(self):\n",
    "        print(\"The car is honking.\")\n",
    "​"
   ]
  },
  {
   "cell_type": "code",
   "execution_count": null,
   "id": "c6ed5a20-0fcc-422e-aa90-7097ad8b17a5",
   "metadata": {},
   "outputs": [],
   "source": []
  },
  {
   "cell_type": "code",
   "execution_count": null,
   "id": "800356a3-7dc9-4e48-8341-1e2f2af91ac4",
   "metadata": {},
   "outputs": [],
   "source": [
    "Q.4 ans\n",
    "\n",
    "\n",
    "\n",
    "Getters and setters are methods that are used to get and set the value of an object's attribute. \n",
    "They are used to protect the data in an object from being changed directly.\n",
    "To create a getter and setter method, you first need to create a class. \n",
    "Then, you need to define the getter and setter methods. The getter method should have the same name as the attribute, \n",
    "and it should return the value of the attribute. The setter method should have the same name as the attribute, \n",
    "and it should take one argument, which is the new value of the attribute.\n",
    "Here is an example of a class with a getter and setter method:\n",
    "\n",
    "    \n",
    "    \n",
    "    \n",
    "class Person:\n",
    "    def __init__(self, name, age):\n",
    "        self.name = name\n",
    "        self.age = age\n",
    "    def get_name(self):\n",
    "        return self.name\n",
    "    def set_name(self, new_name):\n",
    "        self.name = new_name\n",
    "    def get_age(self):\n",
    "        return self.age\n",
    "    def set_age(self, new_age):\n",
    "        self.age = new_age\n",
    "​\n"
   ]
  },
  {
   "cell_type": "code",
   "execution_count": null,
   "id": "ad463c0d-7093-4b32-bef8-28a5e053069f",
   "metadata": {},
   "outputs": [],
   "source": []
  },
  {
   "cell_type": "code",
   "execution_count": null,
   "id": "60bf696f-d64f-4114-8d05-01f7d5caeef2",
   "metadata": {},
   "outputs": [],
   "source": [
    "Q.5 ans\n",
    "\n",
    " Method overriding is a feature of object-oriented programming that allows a subclass to provide\n",
    "    a different implementation of a method that is already defined in its superclass. \n",
    "    This can be useful for customizing the behavior of a class without having to create a new subclass.\n",
    "To override a method, simply define a method with the same name and signature in the subclass. \n",
    "The subclass's method will then be called instead of the superclass's method when an object of the subclass is used.\n",
    "Here is an example of method overriding in Python:\n",
    "\n",
    "    \n",
    "    \n",
    "class Animal:\n",
    "    def speak(self):\n",
    "        print(\"I am an animal!\")\n",
    "class Dog(Animal):\n",
    "    def speak(self):\n",
    "        print(\"Woof!\")\n",
    "d = Dog()\n",
    "d.speak()"
   ]
  }
 ],
 "metadata": {
  "kernelspec": {
   "display_name": "Python 3 (ipykernel)",
   "language": "python",
   "name": "python3"
  },
  "language_info": {
   "codemirror_mode": {
    "name": "ipython",
    "version": 3
   },
   "file_extension": ".py",
   "mimetype": "text/x-python",
   "name": "python",
   "nbconvert_exporter": "python",
   "pygments_lexer": "ipython3",
   "version": "3.10.8"
  }
 },
 "nbformat": 4,
 "nbformat_minor": 5
}
