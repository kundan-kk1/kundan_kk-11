{
 "cells": [
  {
   "cell_type": "code",
   "execution_count": 1,
   "id": "1d3b334a-f77d-4875-bcc4-3293bd50b956",
   "metadata": {},
   "outputs": [],
   "source": [
    "# question:- 1. Create one variable containing following type of data:   \n",
    "#(i)   string\n",
    "#(ii)\tlist\n",
    "#(iii)\tfloat\n",
    "#(iv)\ttuple\n"
   ]
  },
  {
   "cell_type": "code",
   "execution_count": 3,
   "id": "80619313-24e6-4f26-b879-23b360d304c0",
   "metadata": {},
   "outputs": [],
   "source": [
    "#ans\n",
    "str=\"this is a string data type\" # string started double qoute\n",
    "list=[55,56,\"aman\",23.5] # list always started squre braecate\n",
    "float=55.4  # floate containt decimal value\n",
    "tuple=(55,34,22,\"hello\") # tuple containt multiple type of data and started with bricete"
   ]
  },
  {
   "cell_type": "code",
   "execution_count": 4,
   "id": "967d31f5-1a7d-48d5-9452-0c6ef62eadd9",
   "metadata": {},
   "outputs": [],
   "source": [
    "# question  Given are some following variables containing data:\n",
    "#(i)  var1 = ‘ ‘\n",
    "#(ii)\tvar2 = ‘[ DS , ML , Python]’\n",
    "#(iii)\tvar3 = [ ‘DS’ , ’ML’ , ‘Python’ ]\n",
    "#(iv)\tvar4 = 1.\n",
    "#  What will be the data type of the above given variable."
   ]
  },
  {
   "cell_type": "code",
   "execution_count": null,
   "id": "370351b9-74a4-4ceb-b484-d89aea6754f0",
   "metadata": {},
   "outputs": [],
   "source": [
    "1st (string)\n",
    "2nd (list)\n",
    "3rd(list)\n",
    "4th(flote)"
   ]
  },
  {
   "cell_type": "code",
   "execution_count": 6,
   "id": "d3d64b58-0ed2-4e23-ab81-0833ed593bfa",
   "metadata": {},
   "outputs": [],
   "source": [
    "#question:-. Explain the use of the following operators using an example:\n",
    "#(i)\t /\n",
    "#(ii)    % \n",
    "#(iii)\t//\n",
    "#(iv)\t**"
   ]
  },
  {
   "cell_type": "code",
   "execution_count": null,
   "id": "e1689897-268d-4de3-8bc0-f345d8e6ca65",
   "metadata": {},
   "outputs": [],
   "source": [
    "#ans\n",
    "a=10\n",
    "b=20\n",
    "a/b\n",
    "a%b\n",
    "a//b\n",
    "a**b "
   ]
  },
  {
   "cell_type": "code",
   "execution_count": null,
   "id": "5a03c3ab-f8bf-43ca-8994-e9f06d94b259",
   "metadata": {},
   "outputs": [],
   "source": [
    "# question:-4. Create a list of length 10 of your choice containing multiple types of data. Using for loop print the\n",
    "\n",
    "#ans \n",
    "k = [22, 55, 65, 47, \"hello\", 22.5, 123, \"kundan\", 125]\n",
    "for i in (k):\n",
    "    print(type(i))\n",
    "    print(k[i])\n",
    "\n",
    "\n",
    "\n"
   ]
  },
  {
   "cell_type": "code",
   "execution_count": 21,
   "id": "95df35f3-1745-4e4f-b148-1464399e299e",
   "metadata": {},
   "outputs": [
    {
     "name": "stdout",
     "output_type": "stream",
     "text": [
      "22 this is index \n",
      "this is not devided by theree\n",
      "55 this is index \n",
      "this is not devided by theree\n",
      "65 this is index \n",
      "this is not devided by theree\n",
      "47 this is index \n",
      "this is not devided by theree\n",
      "52 this is index \n",
      "this is not devided by theree\n",
      "22 this is index \n",
      "this is not devided by theree\n",
      "11 this is index \n",
      "this is not devided by theree\n",
      "33 this is index \n",
      "its devided by theree\n",
      "66 this is index \n",
      "its devided by theree\n",
      "44 this is index \n",
      "this is not devided by theree\n",
      "77 this is index \n",
      "this is not devided by theree\n",
      "88 this is index \n",
      "this is not devided by theree\n",
      "99 this is index \n",
      "its devided by theree\n",
      "9 this is index \n",
      "its devided by theree\n",
      "3 this is index \n",
      "its devided by theree\n",
      "12 this is index \n",
      "its devided by theree\n",
      "15 this is index \n",
      "its devided by theree\n",
      "18 this is index \n",
      "its devided by theree\n",
      "21 this is index \n",
      "its devided by theree\n"
     ]
    }
   ],
   "source": [
    "# question:- Create a list containing 25 int type data. Using for loop and if-else condition print if the element is\n",
    "#divisible by 3 or not.\n",
    "\n",
    "# ans\n",
    "k = [22, 55, 65, 47,52,22,11,33,66,44,77,88,99,9,3,12,15,18,21]\n",
    "for i in k:\n",
    "    print(i,\"this is index \")\n",
    "    if i%3==0:\n",
    "        print(\"its devided by theree\")\n",
    "    else:\n",
    "        print(\"this is not devided by theree\")"
   ]
  },
  {
   "cell_type": "code",
   "execution_count": null,
   "id": "835131c1-9f12-4c99-8516-df14f3f80b08",
   "metadata": {},
   "outputs": [],
   "source": [
    "# Question:- What do you understand about mutable and immutable data types? Give examples for both showing\n",
    "# this property.\n",
    "\n",
    "#ans :-\n",
    "An object that allows you to change its values without changing its identity is a mutable object. The changes that you can perform on a mutable object’s value are known as mutations."
   ]
  },
  {
   "cell_type": "code",
   "execution_count": null,
   "id": "3f14128a-103d-48c5-b2f8-ce26f261e30b",
   "metadata": {},
   "outputs": [],
   "source": []
  }
 ],
 "metadata": {
  "kernelspec": {
   "display_name": "Python 3 (ipykernel)",
   "language": "python",
   "name": "python3"
  },
  "language_info": {
   "codemirror_mode": {
    "name": "ipython",
    "version": 3
   },
   "file_extension": ".py",
   "mimetype": "text/x-python",
   "name": "python",
   "nbconvert_exporter": "python",
   "pygments_lexer": "ipython3",
   "version": "3.10.8"
  }
 },
 "nbformat": 4,
 "nbformat_minor": 5
}
