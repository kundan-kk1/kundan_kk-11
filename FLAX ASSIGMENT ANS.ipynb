{
 "cells": [
  {
   "cell_type": "markdown",
   "id": "073a4828-b357-4a7f-b5b4-f89cfd997a52",
   "metadata": {},
   "source": [
    "FLASK\n"
   ]
  },
  {
   "cell_type": "code",
   "execution_count": null,
   "id": "4709b8f1-6f53-468f-8676-4d4013fa429c",
   "metadata": {},
   "outputs": [],
   "source": [
    "Q.1 ans\n",
    "\n",
    "  GET Method:\n",
    "The GET method is one of the HTTP (Hypertext Transfer Protocol) methods used in ,\n",
    "web development to request data from a server. \n",
    "It is primarily used for retrieving data from a specified resource, and\n",
    "it should have no side effects on the server or the data.\n",
    "\n",
    "\n",
    "\n",
    "  POST METHOd\n",
    "    \n",
    "    POST Method:\n",
    "The POST method is another HTTP method used in web development,\n",
    "mainly for submitting data to be processed to a specified resource on the server.\n",
    "It is commonly used to create new resources, submit form data, or upload files."
   ]
  },
  {
   "cell_type": "code",
   "execution_count": null,
   "id": "671051dd-3e95-44c6-8dcd-5c502d70e2cf",
   "metadata": {},
   "outputs": [],
   "source": [
    "Q.2 ans\n",
    "\n",
    "   The request object is particularly useful for building dynamic web applications \n",
    "    and APIs where data sent by the client needs to be processed and used to generate responses. \n",
    "    Some common use cases of the request object in Flask include:"
   ]
  },
  {
   "cell_type": "code",
   "execution_count": null,
   "id": "123f59bd-4339-4f1a-aa12-a4dfb5ca7b3d",
   "metadata": {},
   "outputs": [],
   "source": [
    "Q.3 ans\n",
    "\n",
    "  In Flask, the redirect() function is used to redirect the client's\n",
    "    web browser to a different URL or route. It is a way to send an HTTP redirect \n",
    "    response to the client, instructing the browser to visit a new URL. This is a common technique\n",
    "    used in web development to handle certain scenarios, such as after form submissions, successful login,\n",
    "    or when you want to redirect the user to a different page."
   ]
  },
  {
   "cell_type": "code",
   "execution_count": null,
   "id": "4a79ba58-7e5f-406f-821a-c15819a3bd56",
   "metadata": {},
   "outputs": [],
   "source": [
    "Q.4 ans\n",
    "  \n",
    "Templates in Flask:\n",
    "Templates in Flask are files that contain the HTML code with placeholders for dynamic content. \n",
    "They allow developers to separate the presentation layer (HTML) from the business logic (Python code) in\n",
    "their web applications. Using templates, you can generate dynamic web pages by rendering data dynamically \n",
    "into the placeholders within the HTML code.\n",
    "\n",
    "Flask uses the Jinja2 template engine by default, which provides powerful template rendering capabilities.\n",
    "Templates make it easier to build consistent and maintainable web applications as you can reuse the same\n",
    "template for different pages and inject data dynamically without duplicating HTML code.\n",
    "     "
   ]
  },
  {
   "cell_type": "code",
   "execution_count": null,
   "id": "b4fa68a4-6ec4-4168-9757-147c60ec5113",
   "metadata": {},
   "outputs": [],
   "source": []
  }
 ],
 "metadata": {
  "kernelspec": {
   "display_name": "Python 3 (ipykernel)",
   "language": "python",
   "name": "python3"
  },
  "language_info": {
   "codemirror_mode": {
    "name": "ipython",
    "version": 3
   },
   "file_extension": ".py",
   "mimetype": "text/x-python",
   "name": "python",
   "nbconvert_exporter": "python",
   "pygments_lexer": "ipython3",
   "version": "3.10.8"
  }
 },
 "nbformat": 4,
 "nbformat_minor": 5
}
