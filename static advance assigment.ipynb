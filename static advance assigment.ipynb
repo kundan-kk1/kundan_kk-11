{
 "cells": [
  {
   "cell_type": "markdown",
   "id": "edcd98b4-84d6-441b-9426-b626a717e18d",
   "metadata": {},
   "source": [
    "What is probality density function"
   ]
  },
  {
   "cell_type": "markdown",
   "id": "8c3ff39b-f87e-4580-b5d2-15df4a225661",
   "metadata": {},
   "source": [
    "Ans-: A probability density function (PDF) is a mathematical function used to describe the probability distribution of a continuous random variable. It is a function that gives the probability that a random variable will take on a value between two limits. The PDF is non-negative everywhere, and its integral over the entire space is equal to 1."
   ]
  },
  {
   "cell_type": "markdown",
   "id": "ecc9554d-ff36-4953-b466-7d30432aeeb9",
   "metadata": {},
   "source": [
    "Q2. What are the types of Probability distribution?\n"
   ]
  },
  {
   "cell_type": "markdown",
   "id": "58626de0-436d-41f3-a46b-b4944b294f46",
   "metadata": {},
   "source": [
    "Ans-:  There are two main types of probability distributions: discrete and continuous.\n",
    "\n",
    "Discrete Probability Distribution: A discrete probability distribution is defined for discrete random variables, which can only take on integer values. The distribution is defined by a probability mass function (PMF), which gives the probability that the random variable takes on a particular value. Examples of discrete probability distributions include the binomial distribution, Poisson distribution, and geometric distribution.\n",
    "\n",
    "\n",
    "\n",
    "\n",
    "2 Continuous Probability Distribution: A continuous probability distribution is defined for continuous random variables, which can take on any value within a given range. The distribution is defined by a probability density function (PDF), which gives the probability that the random variable takes on a value within a given range. Examples of continuous probability distributions include the normal distribution, exponential distribution, and uniform distribution.Ans-: "
   ]
  },
  {
   "cell_type": "markdown",
   "id": "f7aee840-4577-44d1-952b-c5ca757b52d8",
   "metadata": {},
   "source": [
    "Q3. Write a Python function to calculate the probability density function of a normal distribution with\n",
    "given mean and standard deviation at a given point."
   ]
  },
  {
   "cell_type": "code",
   "execution_count": null,
   "id": "a0d73738-4fff-451a-8636-9075e793c06c",
   "metadata": {},
   "outputs": [],
   "source": [
    "Ans-:  import math\n",
    "\n",
    "def normal_pdf(x, mean, std_dev):\n",
    "    \"\"\"\n",
    "    Calculates the probability density function of a normal distribution with\n",
    "    the given mean and standard deviation at the point x.\n",
    "\n",
    "    Parameters:\n",
    "    x (float): The point at which to calculate the PDF.\n",
    "    mean (float): The mean of the normal distribution.\n",
    "    std_dev (float): The standard deviation of the normal distribution.\n",
    "\n",
    "    Returns:\n",
    "    float: The PDF of the normal distribution at the point x.\n",
    "    \"\"\"\n",
    "\n",
    "    # Calculate the squared difference between x and the mean\n",
    "    squared_diff = (x - mean) ** 2\n",
    "\n",
    "    # Calculate the normalization constant\n",
    "    normalization_constant = 1 / (std_dev * math.sqrt(2 * math.pi))\n",
    "\n",
    "    # Calculate the PDF\n",
    "    pdf = normalization_constant * math.exp(-0.5 * (squared_diff / std_dev ** 2))\n",
    "\n",
    "    return pdf"
   ]
  },
  {
   "cell_type": "code",
   "execution_count": null,
   "id": "0310d0d3-c01b-4871-b7b0-522b911fecc0",
   "metadata": {},
   "outputs": [],
   "source": []
  }
 ],
 "metadata": {
  "kernelspec": {
   "display_name": "Python 3 (ipykernel)",
   "language": "python",
   "name": "python3"
  },
  "language_info": {
   "codemirror_mode": {
    "name": "ipython",
    "version": 3
   },
   "file_extension": ".py",
   "mimetype": "text/x-python",
   "name": "python",
   "nbconvert_exporter": "python",
   "pygments_lexer": "ipython3",
   "version": "3.10.8"
  }
 },
 "nbformat": 4,
 "nbformat_minor": 5
}
