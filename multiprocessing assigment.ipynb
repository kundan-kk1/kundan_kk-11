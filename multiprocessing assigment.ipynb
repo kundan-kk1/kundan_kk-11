{
 "cells": [
  {
   "cell_type": "code",
   "execution_count": null,
   "id": "93eb44b9-5d6c-42eb-8343-d1bb00ec40c8",
   "metadata": {},
   "outputs": [],
   "source": [
    "Q.1 ans\n",
    "\n",
    "  Multiprocessing is a way of running multiple processes simultaneously in a single computer program. \n",
    "    This can be useful for tasks that are computationally intensive or that require a lot of resources.\n",
    "There are a few different ways to implement multiprocessing in Python.\n",
    "One common way is to use the `multiprocessing` module. This module provides a\n",
    "number of functions and classes that can be used to create and manage processes.\n",
    "To create a new process, you can use the `Process` class. This class takes a function as an argument,\n",
    "and it will start a new process that executes that function.\n",
    "For example, the following code creates a new process that prints the current date and time:\n",
    "\n",
    "import multiprocessing\n",
    "def print_date_and_time():\n",
    "    print(datetime.datetime.now())\n",
    "if __name__ == '__main__':\n",
    "    # Create a new process.\n",
    "    process = multiprocessing.Process(target=print_date_and_time)\n",
    "    # Start the process.\n",
    "    process.start()\n",
    "    # Wait for the process to finish.\n",
    "    process.join()"
   ]
  },
  {
   "cell_type": "code",
   "execution_count": null,
   "id": "6be40c82-4756-4140-91d7-17ceb1762646",
   "metadata": {},
   "outputs": [],
   "source": [
    "Q.2 ans\n",
    "\n",
    "  Multiprocessing and multithreading are two ways to improve the performance of a computer program. \n",
    "    Both techniques involve running multiple tasks at the same time, but they differ in how they do it.\n",
    "Multiprocessing involves running multiple processes, \n",
    "which are independent units of execution. Each process has its own memory space, \n",
    "and they can communicate with each other through shared memory or message passing.\n",
    "Multiprocessing is a good choice for tasks that are CPU-intensive or that require a lot of resources.\n",
    "Multithreading involves running multiple threads, which are lightweight units of execution ,\n",
    "that share the same memory space. Threads are a good choice for tasks ,\n",
    "that are I/O-bound or that require a lot of coordination."
   ]
  },
  {
   "cell_type": "code",
   "execution_count": null,
   "id": "0d0d2cbe-46b1-4725-9ccf-74685cab3744",
   "metadata": {},
   "outputs": [],
   "source": [
    "Q.3 ans\n",
    "\n",
    "   import multiprocessing\n",
    "def print_date_and_time():\n",
    "    import datetime\n",
    "    print(datetime.datetime.now())\n",
    "if __name__ == '__main__':\n",
    "    # Create a new process.\n",
    "    process = multiprocessing.Process(target=print_date_and_time)\n",
    "    # Start the process.\n",
    "    process.start()\n",
    "    # Wait for the process to finish.\n",
    "    process.join()"
   ]
  },
  {
   "cell_type": "code",
   "execution_count": null,
   "id": "40e13fd3-4aad-40d7-93c1-7defea8188ac",
   "metadata": {},
   "outputs": [],
   "source": [
    "Q.4 ans\n",
    "\n",
    "  A multiprocessing pool in Python is a group of processes that can be used to execute tasks in parallel. \n",
    "    This can be useful for tasks that are CPU-intensive or that require a lot of resources.\n",
    "To create a multiprocessing pool, you can use the `multiprocessing.Pool()` function. \n",
    "This function takes a number of arguments, including the number of processes to create.\n",
    "Once you have created a multiprocessing pool, you can use it to execute tasks by calling\n",
    "the `apply_async()` method. This method takes a function and a list of arguments as arguments.\n",
    "The function will be executed in a separate process, and the results will be returned to the main process.\n",
    "For example, the following code creates a multiprocessing pool with \n",
    "two processes and then executes a function that prints the current date and time in each process:\n",
    "\n",
    "import multiprocessing"
   ]
  },
  {
   "cell_type": "code",
   "execution_count": null,
   "id": "61bdf1e9-6f0c-44b5-b034-3caf9b8d027e",
   "metadata": {},
   "outputs": [],
   "source": [
    "Q.5 ans\n",
    "\n",
    "  To create a pool of worker processes in Python using the multiprocessing module,\n",
    "    you can use the following steps:\n",
    "1. Import the multiprocessing module.\n",
    "2. Create a Pool object.\n",
    "3. Add tasks to the pool.\n",
    "4. Wait for the pool to finish."
   ]
  },
  {
   "cell_type": "code",
   "execution_count": null,
   "id": "bdb281a0-1245-49d3-b9b9-951e9e1162f0",
   "metadata": {},
   "outputs": [],
   "source": [
    "Q.6 ans\n",
    "\n",
    "  import multiprocessing\n",
    "def print_number(number):\n",
    "    print(number)\n",
    "if __name__ == '__main__':\n",
    "    # Create 4 processes\n",
    "    processes = []\n",
    "    for i in range(4):\n",
    "        process = multiprocessing.Process(target=print_number, args=(i,))\n",
    "        processes.append(process)\n",
    "    # Start the processes\n",
    "    for process in processes:\n",
    "        process.start()\n",
    "    # Wait for the processes to finish\n",
    "    for process in processes:\n",
    "        process.join()\n",
    "    "
   ]
  },
  {
   "cell_type": "code",
   "execution_count": null,
   "id": "66b6fee9-66bc-4168-9616-33bfc8600158",
   "metadata": {},
   "outputs": [],
   "source": []
  }
 ],
 "metadata": {
  "kernelspec": {
   "display_name": "Python 3 (ipykernel)",
   "language": "python",
   "name": "python3"
  },
  "language_info": {
   "codemirror_mode": {
    "name": "ipython",
    "version": 3
   },
   "file_extension": ".py",
   "mimetype": "text/x-python",
   "name": "python",
   "nbconvert_exporter": "python",
   "pygments_lexer": "ipython3",
   "version": "3.10.8"
  }
 },
 "nbformat": 4,
 "nbformat_minor": 5
}
